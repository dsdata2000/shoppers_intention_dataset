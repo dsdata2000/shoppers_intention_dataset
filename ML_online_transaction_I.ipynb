{
 "cells": [
  {
   "cell_type": "code",
   "execution_count": 95,
   "id": "4dffdd2e",
   "metadata": {},
   "outputs": [],
   "source": [
    "import pandas as pd\n",
    "import numpy as np\n",
    "from numpy.random import seed\n",
    "import statistics\n",
    "\n",
    "import warnings\n",
    "warnings.filterwarnings(\"ignore\")\n",
    "\n",
    "import matplotlib.pyplot as plt\n",
    "import seaborn as sns"
   ]
  },
  {
   "cell_type": "code",
   "execution_count": 96,
   "id": "faf9e073",
   "metadata": {},
   "outputs": [],
   "source": [
    "seed(100)"
   ]
  },
  {
   "cell_type": "code",
   "execution_count": 97,
   "id": "75f8d38b",
   "metadata": {},
   "outputs": [
    {
     "data": {
      "text/plain": [
       "array(['Unnamed: 0', 'Administrative', 'Administrative_Duration',\n",
       "       'Informational', 'Informational_Duration', 'ProductRelated',\n",
       "       'ProductRelated_Duration', 'BounceRates', 'ExitRates',\n",
       "       'PageValues', 'SpecialDay', 'Month', 'OperatingSystems', 'Browser',\n",
       "       'Region', 'TrafficType', 'VisitorType', 'Weekend', 'Revenue'],\n",
       "      dtype='<U23')"
      ]
     },
     "execution_count": 97,
     "metadata": {},
     "output_type": "execute_result"
    }
   ],
   "source": [
    "df = pd.read_csv('./DATA/online_transaction_dataset_processed.csv')\n",
    "attr = df.columns.tolist()\n",
    "np.transpose(attr)"
   ]
  },
  {
   "cell_type": "code",
   "execution_count": 98,
   "id": "3e4796a5",
   "metadata": {},
   "outputs": [
    {
     "data": {
      "text/html": [
       "<div>\n",
       "<style scoped>\n",
       "    .dataframe tbody tr th:only-of-type {\n",
       "        vertical-align: middle;\n",
       "    }\n",
       "\n",
       "    .dataframe tbody tr th {\n",
       "        vertical-align: top;\n",
       "    }\n",
       "\n",
       "    .dataframe thead th {\n",
       "        text-align: right;\n",
       "    }\n",
       "</style>\n",
       "<table border=\"1\" class=\"dataframe\">\n",
       "  <thead>\n",
       "    <tr style=\"text-align: right;\">\n",
       "      <th></th>\n",
       "      <th>Unnamed: 0</th>\n",
       "      <th>Administrative</th>\n",
       "      <th>Administrative_Duration</th>\n",
       "      <th>Informational</th>\n",
       "      <th>Informational_Duration</th>\n",
       "      <th>ProductRelated</th>\n",
       "      <th>ProductRelated_Duration</th>\n",
       "      <th>BounceRates</th>\n",
       "      <th>ExitRates</th>\n",
       "      <th>PageValues</th>\n",
       "      <th>SpecialDay</th>\n",
       "      <th>Month</th>\n",
       "      <th>OperatingSystems</th>\n",
       "      <th>Browser</th>\n",
       "      <th>Region</th>\n",
       "      <th>TrafficType</th>\n",
       "      <th>VisitorType</th>\n",
       "      <th>Weekend</th>\n",
       "      <th>Revenue</th>\n",
       "    </tr>\n",
       "  </thead>\n",
       "  <tbody>\n",
       "    <tr>\n",
       "      <th>0</th>\n",
       "      <td>0</td>\n",
       "      <td>0.0</td>\n",
       "      <td>0.0</td>\n",
       "      <td>0.0</td>\n",
       "      <td>0.0</td>\n",
       "      <td>1.0</td>\n",
       "      <td>0.000000</td>\n",
       "      <td>0.200000</td>\n",
       "      <td>0.200000</td>\n",
       "      <td>0.0</td>\n",
       "      <td>0.0</td>\n",
       "      <td>9</td>\n",
       "      <td>1</td>\n",
       "      <td>1</td>\n",
       "      <td>1</td>\n",
       "      <td>1</td>\n",
       "      <td>0</td>\n",
       "      <td>0</td>\n",
       "      <td>0</td>\n",
       "    </tr>\n",
       "    <tr>\n",
       "      <th>1</th>\n",
       "      <td>1</td>\n",
       "      <td>0.0</td>\n",
       "      <td>0.0</td>\n",
       "      <td>0.0</td>\n",
       "      <td>0.0</td>\n",
       "      <td>2.0</td>\n",
       "      <td>64.000000</td>\n",
       "      <td>0.000000</td>\n",
       "      <td>0.100000</td>\n",
       "      <td>0.0</td>\n",
       "      <td>0.0</td>\n",
       "      <td>9</td>\n",
       "      <td>2</td>\n",
       "      <td>2</td>\n",
       "      <td>1</td>\n",
       "      <td>2</td>\n",
       "      <td>0</td>\n",
       "      <td>0</td>\n",
       "      <td>0</td>\n",
       "    </tr>\n",
       "    <tr>\n",
       "      <th>2</th>\n",
       "      <td>3</td>\n",
       "      <td>0.0</td>\n",
       "      <td>0.0</td>\n",
       "      <td>0.0</td>\n",
       "      <td>0.0</td>\n",
       "      <td>2.0</td>\n",
       "      <td>2.666667</td>\n",
       "      <td>0.050000</td>\n",
       "      <td>0.140000</td>\n",
       "      <td>0.0</td>\n",
       "      <td>0.0</td>\n",
       "      <td>9</td>\n",
       "      <td>3</td>\n",
       "      <td>2</td>\n",
       "      <td>2</td>\n",
       "      <td>4</td>\n",
       "      <td>0</td>\n",
       "      <td>0</td>\n",
       "      <td>0</td>\n",
       "    </tr>\n",
       "    <tr>\n",
       "      <th>3</th>\n",
       "      <td>4</td>\n",
       "      <td>0.0</td>\n",
       "      <td>0.0</td>\n",
       "      <td>0.0</td>\n",
       "      <td>0.0</td>\n",
       "      <td>10.0</td>\n",
       "      <td>627.500000</td>\n",
       "      <td>0.020000</td>\n",
       "      <td>0.050000</td>\n",
       "      <td>0.0</td>\n",
       "      <td>0.0</td>\n",
       "      <td>9</td>\n",
       "      <td>3</td>\n",
       "      <td>3</td>\n",
       "      <td>1</td>\n",
       "      <td>4</td>\n",
       "      <td>0</td>\n",
       "      <td>1</td>\n",
       "      <td>0</td>\n",
       "    </tr>\n",
       "    <tr>\n",
       "      <th>4</th>\n",
       "      <td>5</td>\n",
       "      <td>0.0</td>\n",
       "      <td>0.0</td>\n",
       "      <td>0.0</td>\n",
       "      <td>0.0</td>\n",
       "      <td>19.0</td>\n",
       "      <td>154.216667</td>\n",
       "      <td>0.015789</td>\n",
       "      <td>0.024561</td>\n",
       "      <td>0.0</td>\n",
       "      <td>0.0</td>\n",
       "      <td>9</td>\n",
       "      <td>2</td>\n",
       "      <td>2</td>\n",
       "      <td>1</td>\n",
       "      <td>3</td>\n",
       "      <td>0</td>\n",
       "      <td>0</td>\n",
       "      <td>0</td>\n",
       "    </tr>\n",
       "  </tbody>\n",
       "</table>\n",
       "</div>"
      ],
      "text/plain": [
       "   Unnamed: 0  Administrative  Administrative_Duration  Informational  \\\n",
       "0           0             0.0                      0.0            0.0   \n",
       "1           1             0.0                      0.0            0.0   \n",
       "2           3             0.0                      0.0            0.0   \n",
       "3           4             0.0                      0.0            0.0   \n",
       "4           5             0.0                      0.0            0.0   \n",
       "\n",
       "   Informational_Duration  ProductRelated  ProductRelated_Duration  \\\n",
       "0                     0.0             1.0                 0.000000   \n",
       "1                     0.0             2.0                64.000000   \n",
       "2                     0.0             2.0                 2.666667   \n",
       "3                     0.0            10.0               627.500000   \n",
       "4                     0.0            19.0               154.216667   \n",
       "\n",
       "   BounceRates  ExitRates  PageValues  SpecialDay  Month  OperatingSystems  \\\n",
       "0     0.200000   0.200000         0.0         0.0      9                 1   \n",
       "1     0.000000   0.100000         0.0         0.0      9                 2   \n",
       "2     0.050000   0.140000         0.0         0.0      9                 3   \n",
       "3     0.020000   0.050000         0.0         0.0      9                 3   \n",
       "4     0.015789   0.024561         0.0         0.0      9                 2   \n",
       "\n",
       "   Browser  Region  TrafficType  VisitorType  Weekend  Revenue  \n",
       "0        1       1            1            0        0        0  \n",
       "1        2       1            2            0        0        0  \n",
       "2        2       2            4            0        0        0  \n",
       "3        3       1            4            0        1        0  \n",
       "4        2       1            3            0        0        0  "
      ]
     },
     "execution_count": 98,
     "metadata": {},
     "output_type": "execute_result"
    }
   ],
   "source": [
    "df.head()"
   ]
  },
  {
   "cell_type": "code",
   "execution_count": 99,
   "id": "1822c24b",
   "metadata": {},
   "outputs": [
    {
     "data": {
      "text/plain": [
       "0    10375\n",
       "1     1908\n",
       "Name: Revenue, dtype: int64"
      ]
     },
     "execution_count": 99,
     "metadata": {},
     "output_type": "execute_result"
    }
   ],
   "source": [
    "df['Revenue'].value_counts()"
   ]
  },
  {
   "cell_type": "code",
   "execution_count": 100,
   "id": "bcfcee9c",
   "metadata": {},
   "outputs": [
    {
     "data": {
      "text/plain": [
       "0    3357\n",
       "1    2995\n",
       "2    1884\n",
       "3    1727\n",
       "4     549\n",
       "5     448\n",
       "6     433\n",
       "7     431\n",
       "8     288\n",
       "9     171\n",
       "Name: Month, dtype: int64"
      ]
     },
     "execution_count": 100,
     "metadata": {},
     "output_type": "execute_result"
    }
   ],
   "source": [
    "df['Month'].value_counts()"
   ]
  },
  {
   "cell_type": "code",
   "execution_count": 101,
   "id": "f1b8961e",
   "metadata": {},
   "outputs": [
    {
     "data": {
      "text/html": [
       "<div>\n",
       "<style scoped>\n",
       "    .dataframe tbody tr th:only-of-type {\n",
       "        vertical-align: middle;\n",
       "    }\n",
       "\n",
       "    .dataframe tbody tr th {\n",
       "        vertical-align: top;\n",
       "    }\n",
       "\n",
       "    .dataframe thead th {\n",
       "        text-align: right;\n",
       "    }\n",
       "</style>\n",
       "<table border=\"1\" class=\"dataframe\">\n",
       "  <thead>\n",
       "    <tr style=\"text-align: right;\">\n",
       "      <th></th>\n",
       "      <th>Administrative</th>\n",
       "      <th>Administrative_Duration</th>\n",
       "      <th>Informational</th>\n",
       "      <th>Informational_Duration</th>\n",
       "      <th>ProductRelated</th>\n",
       "      <th>ProductRelated_Duration</th>\n",
       "      <th>BounceRates</th>\n",
       "      <th>ExitRates</th>\n",
       "      <th>PageValues</th>\n",
       "      <th>SpecialDay</th>\n",
       "      <th>Month</th>\n",
       "      <th>OperatingSystems</th>\n",
       "      <th>Browser</th>\n",
       "      <th>Region</th>\n",
       "      <th>TrafficType</th>\n",
       "      <th>VisitorType</th>\n",
       "      <th>Weekend</th>\n",
       "      <th>Revenue</th>\n",
       "    </tr>\n",
       "  </thead>\n",
       "  <tbody>\n",
       "    <tr>\n",
       "      <th>0</th>\n",
       "      <td>0.0</td>\n",
       "      <td>0.0</td>\n",
       "      <td>0.0</td>\n",
       "      <td>0.0</td>\n",
       "      <td>1.0</td>\n",
       "      <td>0.000000</td>\n",
       "      <td>0.200000</td>\n",
       "      <td>0.200000</td>\n",
       "      <td>0.0</td>\n",
       "      <td>0.0</td>\n",
       "      <td>9</td>\n",
       "      <td>1</td>\n",
       "      <td>1</td>\n",
       "      <td>1</td>\n",
       "      <td>1</td>\n",
       "      <td>0</td>\n",
       "      <td>0</td>\n",
       "      <td>0</td>\n",
       "    </tr>\n",
       "    <tr>\n",
       "      <th>1</th>\n",
       "      <td>0.0</td>\n",
       "      <td>0.0</td>\n",
       "      <td>0.0</td>\n",
       "      <td>0.0</td>\n",
       "      <td>2.0</td>\n",
       "      <td>64.000000</td>\n",
       "      <td>0.000000</td>\n",
       "      <td>0.100000</td>\n",
       "      <td>0.0</td>\n",
       "      <td>0.0</td>\n",
       "      <td>9</td>\n",
       "      <td>2</td>\n",
       "      <td>2</td>\n",
       "      <td>1</td>\n",
       "      <td>2</td>\n",
       "      <td>0</td>\n",
       "      <td>0</td>\n",
       "      <td>0</td>\n",
       "    </tr>\n",
       "    <tr>\n",
       "      <th>2</th>\n",
       "      <td>0.0</td>\n",
       "      <td>0.0</td>\n",
       "      <td>0.0</td>\n",
       "      <td>0.0</td>\n",
       "      <td>2.0</td>\n",
       "      <td>2.666667</td>\n",
       "      <td>0.050000</td>\n",
       "      <td>0.140000</td>\n",
       "      <td>0.0</td>\n",
       "      <td>0.0</td>\n",
       "      <td>9</td>\n",
       "      <td>3</td>\n",
       "      <td>2</td>\n",
       "      <td>2</td>\n",
       "      <td>4</td>\n",
       "      <td>0</td>\n",
       "      <td>0</td>\n",
       "      <td>0</td>\n",
       "    </tr>\n",
       "    <tr>\n",
       "      <th>3</th>\n",
       "      <td>0.0</td>\n",
       "      <td>0.0</td>\n",
       "      <td>0.0</td>\n",
       "      <td>0.0</td>\n",
       "      <td>10.0</td>\n",
       "      <td>627.500000</td>\n",
       "      <td>0.020000</td>\n",
       "      <td>0.050000</td>\n",
       "      <td>0.0</td>\n",
       "      <td>0.0</td>\n",
       "      <td>9</td>\n",
       "      <td>3</td>\n",
       "      <td>3</td>\n",
       "      <td>1</td>\n",
       "      <td>4</td>\n",
       "      <td>0</td>\n",
       "      <td>1</td>\n",
       "      <td>0</td>\n",
       "    </tr>\n",
       "    <tr>\n",
       "      <th>4</th>\n",
       "      <td>0.0</td>\n",
       "      <td>0.0</td>\n",
       "      <td>0.0</td>\n",
       "      <td>0.0</td>\n",
       "      <td>19.0</td>\n",
       "      <td>154.216667</td>\n",
       "      <td>0.015789</td>\n",
       "      <td>0.024561</td>\n",
       "      <td>0.0</td>\n",
       "      <td>0.0</td>\n",
       "      <td>9</td>\n",
       "      <td>2</td>\n",
       "      <td>2</td>\n",
       "      <td>1</td>\n",
       "      <td>3</td>\n",
       "      <td>0</td>\n",
       "      <td>0</td>\n",
       "      <td>0</td>\n",
       "    </tr>\n",
       "  </tbody>\n",
       "</table>\n",
       "</div>"
      ],
      "text/plain": [
       "   Administrative  Administrative_Duration  Informational  \\\n",
       "0             0.0                      0.0            0.0   \n",
       "1             0.0                      0.0            0.0   \n",
       "2             0.0                      0.0            0.0   \n",
       "3             0.0                      0.0            0.0   \n",
       "4             0.0                      0.0            0.0   \n",
       "\n",
       "   Informational_Duration  ProductRelated  ProductRelated_Duration  \\\n",
       "0                     0.0             1.0                 0.000000   \n",
       "1                     0.0             2.0                64.000000   \n",
       "2                     0.0             2.0                 2.666667   \n",
       "3                     0.0            10.0               627.500000   \n",
       "4                     0.0            19.0               154.216667   \n",
       "\n",
       "   BounceRates  ExitRates  PageValues  SpecialDay  Month  OperatingSystems  \\\n",
       "0     0.200000   0.200000         0.0         0.0      9                 1   \n",
       "1     0.000000   0.100000         0.0         0.0      9                 2   \n",
       "2     0.050000   0.140000         0.0         0.0      9                 3   \n",
       "3     0.020000   0.050000         0.0         0.0      9                 3   \n",
       "4     0.015789   0.024561         0.0         0.0      9                 2   \n",
       "\n",
       "   Browser  Region  TrafficType  VisitorType  Weekend  Revenue  \n",
       "0        1       1            1            0        0        0  \n",
       "1        2       1            2            0        0        0  \n",
       "2        2       2            4            0        0        0  \n",
       "3        3       1            4            0        1        0  \n",
       "4        2       1            3            0        0        0  "
      ]
     },
     "execution_count": 101,
     "metadata": {},
     "output_type": "execute_result"
    }
   ],
   "source": [
    "df[attr[1:len(attr)]].head()"
   ]
  },
  {
   "cell_type": "code",
   "execution_count": 102,
   "id": "d6770845",
   "metadata": {},
   "outputs": [
    {
     "data": {
      "text/plain": [
       "(array(['Administrative', 'Administrative_Duration', 'Informational',\n",
       "        'Informational_Duration', 'ProductRelated',\n",
       "        'ProductRelated_Duration', 'BounceRates', 'ExitRates',\n",
       "        'PageValues', 'SpecialDay', 'Month', 'OperatingSystems', 'Browser',\n",
       "        'Region', 'TrafficType', 'VisitorType', 'Weekend', 'Revenue'],\n",
       "       dtype='<U23'),\n",
       " 'Revenue')"
      ]
     },
     "execution_count": 102,
     "metadata": {},
     "output_type": "execute_result"
    }
   ],
   "source": [
    "np.transpose(attr[1:len(attr)]), attr[len(attr)-1]"
   ]
  },
  {
   "cell_type": "code",
   "execution_count": 103,
   "id": "d78cc511",
   "metadata": {},
   "outputs": [
    {
     "data": {
      "text/plain": [
       "0    10375\n",
       "1     1908\n",
       "Name: Revenue, dtype: int64"
      ]
     },
     "execution_count": 103,
     "metadata": {},
     "output_type": "execute_result"
    }
   ],
   "source": [
    "df[attr[len(attr)-1]].value_counts()"
   ]
  },
  {
   "cell_type": "code",
   "execution_count": 104,
   "id": "abda7d50",
   "metadata": {},
   "outputs": [],
   "source": [
    "from sklearn.model_selection import train_test_split\n",
    "from sklearn.metrics import classification_report, confusion_matrix\n",
    "from sklearn.metrics import roc_auc_score, roc_curve\n",
    "from matplotlib import pyplot\n",
    "\n",
    "\n",
    "from sklearn.ensemble import GradientBoostingClassifier\n",
    "from sklearn.tree import DecisionTreeClassifier"
   ]
  },
  {
   "cell_type": "code",
   "execution_count": 105,
   "id": "26f0bbc1",
   "metadata": {},
   "outputs": [],
   "source": [
    "x_tr, x_t, y_tr, y_t = train_test_split(df[attr[1:len(attr)-1]], df['Revenue'], random_state=100)"
   ]
  },
  {
   "cell_type": "code",
   "execution_count": 106,
   "id": "80ec8e0b",
   "metadata": {},
   "outputs": [
    {
     "data": {
      "text/plain": [
       "((9212, 17), (3071, 17), (9212,), (3071,))"
      ]
     },
     "execution_count": 106,
     "metadata": {},
     "output_type": "execute_result"
    }
   ],
   "source": [
    "x_tr.shape, x_t.shape, y_tr.shape, y_t.shape"
   ]
  },
  {
   "cell_type": "code",
   "execution_count": 107,
   "id": "6169edb7",
   "metadata": {},
   "outputs": [],
   "source": [
    "clf = GradientBoostingClassifier()\n",
    "clf.fit(x_tr, y_tr)\n",
    "y_p = clf.predict(x_t)"
   ]
  },
  {
   "cell_type": "code",
   "execution_count": 108,
   "id": "34aa44a9",
   "metadata": {},
   "outputs": [
    {
     "name": "stdout",
     "output_type": "stream",
     "text": [
      "              precision    recall  f1-score   support\n",
      "\n",
      "           0       0.94      0.95      0.94      2621\n",
      "           1       0.68      0.62      0.65       450\n",
      "\n",
      "    accuracy                           0.90      3071\n",
      "   macro avg       0.81      0.78      0.79      3071\n",
      "weighted avg       0.90      0.90      0.90      3071\n",
      "\n"
     ]
    }
   ],
   "source": [
    "print(classification_report(y_t, y_p))"
   ]
  },
  {
   "cell_type": "code",
   "execution_count": 109,
   "id": "adba69c2",
   "metadata": {},
   "outputs": [
    {
     "name": "stdout",
     "output_type": "stream",
     "text": [
      "[[2491  130]\n",
      " [ 173  277]]\n"
     ]
    }
   ],
   "source": [
    "print(confusion_matrix(y_t, y_p))"
   ]
  },
  {
   "cell_type": "code",
   "execution_count": 110,
   "id": "078641c2",
   "metadata": {},
   "outputs": [],
   "source": [
    "clf_prob = clf.predict_proba(x_t)"
   ]
  },
  {
   "cell_type": "code",
   "execution_count": 111,
   "id": "b55f3db4",
   "metadata": {},
   "outputs": [
    {
     "data": {
      "text/plain": [
       "array([0.68222462, 0.03003092, 0.01783221, ..., 0.0413525 , 0.08005694,\n",
       "       0.01511847])"
      ]
     },
     "execution_count": 111,
     "metadata": {},
     "output_type": "execute_result"
    }
   ],
   "source": [
    "clf_probability = clf_prob[:,1]\n",
    "clf_probability"
   ]
  },
  {
   "cell_type": "code",
   "execution_count": 112,
   "id": "951292e3",
   "metadata": {},
   "outputs": [],
   "source": [
    "df_prob = pd.DataFrame({'clf_prob': clf_probability})"
   ]
  },
  {
   "cell_type": "code",
   "execution_count": 113,
   "id": "2f6c4a8b",
   "metadata": {},
   "outputs": [
    {
     "data": {
      "text/plain": [
       "0.003629    72\n",
       "0.008152    37\n",
       "0.072989    29\n",
       "0.005952    25\n",
       "0.031914    25\n",
       "            ..\n",
       "0.227285     1\n",
       "0.375895     1\n",
       "0.012181     1\n",
       "0.023269     1\n",
       "0.263548     1\n",
       "Name: clf_prob, Length: 2148, dtype: int64"
      ]
     },
     "execution_count": 113,
     "metadata": {},
     "output_type": "execute_result"
    }
   ],
   "source": [
    "df_prob['clf_prob'].value_counts()"
   ]
  },
  {
   "cell_type": "code",
   "execution_count": 114,
   "id": "6c21c4b6",
   "metadata": {},
   "outputs": [],
   "source": [
    "clf_fpr, clf_tpr, _ = roc_curve(y_t, clf_probability)  \n",
    "nc_fpr, nc_trp, _ = roc_curve(y_t, np.zeros(len(y_t)))"
   ]
  },
  {
   "cell_type": "code",
   "execution_count": 115,
   "id": "a13968a5",
   "metadata": {},
   "outputs": [
    {
     "data": {
      "image/png": "[encoded data removed]",
      "text/plain": [
       "<Figure size 864x288 with 1 Axes>"
      ]
     },
     "metadata": {
      "needs_background": "light"
     },
     "output_type": "display_data"
    }
   ],
   "source": [
    "plt.figure(figsize=(12,4))\n",
    "plt.plot(clf_fpr[::25], clf_tpr[::25], \n",
    "         color='blue', label='ensemble.GradientBoostingCLF',\n",
    "         marker='h', markeredgecolor='red',\n",
    "         markersize=12)\n",
    "plt.plot(nc_fpr, nc_trp, \n",
    "         color='green', label='no_classifier',\n",
    "         marker='s', markeredgecolor='purple',\n",
    "         linestyle='--', linewidth=4.5)\n",
    "plt.legend()\n",
    "plt.xlabel('False positive rate')\n",
    "plt.ylabel('True positive rate')\n",
    "plt.title('ROC-CURVE: online-transaction')\n",
    "plt.show()"
   ]
  },
  {
   "cell_type": "code",
   "execution_count": 116,
   "id": "bd0543e1",
   "metadata": {},
   "outputs": [],
   "source": [
    "df_p = pd.DataFrame({'y_t': y_t, 'y_p': y_p})"
   ]
  },
  {
   "cell_type": "code",
   "execution_count": 117,
   "id": "cd993758",
   "metadata": {},
   "outputs": [
    {
     "data": {
      "text/plain": [
       "0    2621\n",
       "1     450\n",
       "Name: y_t, dtype: int64"
      ]
     },
     "execution_count": 117,
     "metadata": {},
     "output_type": "execute_result"
    }
   ],
   "source": [
    "df_p['y_t'].value_counts()"
   ]
  },
  {
   "cell_type": "code",
   "execution_count": 118,
   "id": "fa687b6f",
   "metadata": {},
   "outputs": [
    {
     "name": "stdout",
     "output_type": "stream",
     "text": [
      "[[2491  130]\n",
      " [ 173  277]]\n"
     ]
    }
   ],
   "source": [
    "print(confusion_matrix(y_t, y_p))"
   ]
  },
  {
   "cell_type": "code",
   "execution_count": 119,
   "id": "212ac86c",
   "metadata": {},
   "outputs": [
    {
     "data": {
      "text/plain": [
       "0.6155555555555555"
      ]
     },
     "execution_count": 119,
     "metadata": {},
     "output_type": "execute_result"
    }
   ],
   "source": [
    "recall = confusion_matrix(y_t, y_p)[1][1]/(confusion_matrix(y_t, y_p)[1][1]+confusion_matrix(y_t, y_p)[1][0])\n",
    "recall"
   ]
  },
  {
   "cell_type": "code",
   "execution_count": 120,
   "id": "4a9b1b98",
   "metadata": {},
   "outputs": [
    {
     "data": {
      "text/plain": [
       "0.6805896805896806"
      ]
     },
     "execution_count": 120,
     "metadata": {},
     "output_type": "execute_result"
    }
   ],
   "source": [
    "precision = confusion_matrix(y_t, y_p)[1][1]/(confusion_matrix(y_t, y_p)[1][1]+confusion_matrix(y_t, y_p)[0][1])\n",
    "precision"
   ]
  },
  {
   "cell_type": "code",
   "execution_count": 121,
   "id": "d580e32e",
   "metadata": {},
   "outputs": [
    {
     "data": {
      "text/plain": [
       "0.646441073512252"
      ]
     },
     "execution_count": 121,
     "metadata": {},
     "output_type": "execute_result"
    }
   ],
   "source": [
    "f1_score = statistics.harmonic_mean([recall,precision])\n",
    "f1_score"
   ]
  },
  {
   "cell_type": "code",
   "execution_count": 122,
   "id": "a5ccdb67",
   "metadata": {},
   "outputs": [
    {
     "name": "stdout",
     "output_type": "stream",
     "text": [
      "              precision    recall  f1-score   support\n",
      "\n",
      "           0       0.94      0.95      0.94      2621\n",
      "           1       0.68      0.62      0.65       450\n",
      "\n",
      "    accuracy                           0.90      3071\n",
      "   macro avg       0.81      0.78      0.79      3071\n",
      "weighted avg       0.90      0.90      0.90      3071\n",
      "\n"
     ]
    }
   ],
   "source": [
    "print(classification_report(y_t, y_p))"
   ]
  },
  {
   "cell_type": "code",
   "execution_count": 123,
   "id": "5f1d932d",
   "metadata": {},
   "outputs": [
    {
     "data": {
      "text/plain": [
       "0.4252151426512356"
      ]
     },
     "execution_count": 123,
     "metadata": {},
     "output_type": "execute_result"
    }
   ],
   "source": [
    "AREA_ROC = np.trapz(clf_tpr, clf_fpr)-0.5\n",
    "AREA_ROC"
   ]
  },
  {
   "cell_type": "code",
   "execution_count": 124,
   "id": "de5302d0",
   "metadata": {},
   "outputs": [
    {
     "name": "stdout",
     "output_type": "stream",
     "text": [
      "Area under the ROC_CURVE :  0.4252151426512356\n"
     ]
    }
   ],
   "source": [
    "print('Area under the ROC_CURVE : ', AREA_ROC)"
   ]
  },
  {
   "cell_type": "code",
   "execution_count": null,
   "id": "dc878d15",
   "metadata": {},
   "outputs": [],
   "source": []
  },
  {
   "cell_type": "code",
   "execution_count": null,
   "id": "358508f3",
   "metadata": {},
   "outputs": [],
   "source": []
  },
  {
   "cell_type": "code",
   "execution_count": null,
   "id": "50ce1a4c",
   "metadata": {},
   "outputs": [],
   "source": []
  }
 ],
 "metadata": {
  "kernelspec": {
   "display_name": "Python 3",
   "language": "python",
   "name": "python3"
  },
  "language_info": {
   "codemirror_mode": {
    "name": "ipython",
    "version": 3
   },
   "file_extension": ".py",
   "mimetype": "text/x-python",
   "name": "python",
   "nbconvert_exporter": "python",
   "pygments_lexer": "ipython3",
   "version": "3.8.8"
  }
 },
 "nbformat": 4,
 "nbformat_minor": 5
}
