{
 "cells": [
  {
   "cell_type": "markdown",
   "metadata": {},
   "source": [
    "### Introduction \n",
    "\n",
    "online_shoppers_intention.csv on UCI Machine Learning Repository consists of 12,330\n",
    "sessions with 84.5% negative class samples, i.e.; it was not ended with shopping, Only 15.5%\n",
    "did shopping. \n",
    "\n",
    "Data set has 18 attributes.\n",
    "\n",
    "Repository dataset as it is filtered to make sure each session would belong to a different user in a 1-year period to\n",
    "avoid any tendency to a specific campaign, special day, user profile or period."
   ]
  },
  {
   "cell_type": "code",
   "execution_count": 1,
   "metadata": {},
   "outputs": [],
   "source": [
    "import pandas as pd\n",
    "import numpy as np\n",
    "\n",
    "import matplotlib.pyplot as plt\n",
    "import seaborn as sns\n",
    "\n",
    "import warnings\n",
    "warnings.filterwarnings('ignore')"
   ]
  },
  {
   "cell_type": "code",
   "execution_count": 2,
   "metadata": {},
   "outputs": [
    {
     "name": "stdout",
     "output_type": "stream",
     "text": [
      "<class 'pandas.core.frame.DataFrame'>\n",
      "RangeIndex: 12330 entries, 0 to 12329\n",
      "Data columns (total 18 columns):\n",
      " #   Column                   Non-Null Count  Dtype  \n",
      "---  ------                   --------------  -----  \n",
      " 0   Administrative           12316 non-null  float64\n",
      " 1   Administrative_Duration  12316 non-null  float64\n",
      " 2   Informational            12316 non-null  float64\n",
      " 3   Informational_Duration   12316 non-null  float64\n",
      " 4   ProductRelated           12316 non-null  float64\n",
      " 5   ProductRelated_Duration  12316 non-null  float64\n",
      " 6   BounceRates              12316 non-null  float64\n",
      " 7   ExitRates                12316 non-null  float64\n",
      " 8   PageValues               12330 non-null  float64\n",
      " 9   SpecialDay               12330 non-null  float64\n",
      " 10  Month                    12330 non-null  object \n",
      " 11  OperatingSystems         12330 non-null  int64  \n",
      " 12  Browser                  12330 non-null  int64  \n",
      " 13  Region                   12330 non-null  int64  \n",
      " 14  TrafficType              12330 non-null  int64  \n",
      " 15  VisitorType              12330 non-null  object \n",
      " 16  Weekend                  12330 non-null  bool   \n",
      " 17  Revenue                  12330 non-null  bool   \n",
      "dtypes: bool(2), float64(10), int64(4), object(2)\n",
      "memory usage: 1.5+ MB\n"
     ]
    }
   ],
   "source": [
    "df = pd.read_csv('online_shoppers_intention.csv')\n",
    "df.info()"
   ]
  },
  {
   "cell_type": "code",
   "execution_count": 3,
   "metadata": {},
   "outputs": [
    {
     "data": {
      "text/plain": [
       "(12330, 18)"
      ]
     },
     "execution_count": 3,
     "metadata": {},
     "output_type": "execute_result"
    }
   ],
   "source": [
    "df.shape"
   ]
  },
  {
   "cell_type": "markdown",
   "metadata": {},
   "source": [
    "### DATA WRANGLING"
   ]
  },
  {
   "cell_type": "code",
   "execution_count": 4,
   "metadata": {},
   "outputs": [
    {
     "data": {
      "text/plain": [
       "(0.0, -1.0, 0.0, -1.0, 0.0, -1.0)"
      ]
     },
     "execution_count": 4,
     "metadata": {},
     "output_type": "execute_result"
    }
   ],
   "source": [
    "np.min(df['Administrative']), np.min(df['Administrative_Duration']), np.min(df['Informational']),np.min(df['Informational_Duration']), np.min(df['ProductRelated']), np.min(df['ProductRelated_Duration']) \n"
   ]
  },
  {
   "cell_type": "code",
   "execution_count": 5,
   "metadata": {},
   "outputs": [
    {
     "data": {
      "text/plain": [
       "(27.0, 3398.75, 24.0, 2549.375, 705.0, 63973.52223)"
      ]
     },
     "execution_count": 5,
     "metadata": {},
     "output_type": "execute_result"
    }
   ],
   "source": [
    "np.max(df['Administrative']), np.max(df['Administrative_Duration']), np.max(df['Informational']),np.max(df['Informational_Duration']), np.max(df['ProductRelated']), np.max(df['ProductRelated_Duration'])  \n"
   ]
  },
  {
   "cell_type": "code",
   "execution_count": 6,
   "metadata": {},
   "outputs": [],
   "source": [
    "df = df[ df.Administrative_Duration>=0.0 ]\n",
    "df = df[ df.Informational_Duration>=0.0 ]\n",
    "df = df[ df.ProductRelated_Duration>=0.0 ]"
   ]
  },
  {
   "cell_type": "code",
   "execution_count": 7,
   "metadata": {},
   "outputs": [],
   "source": [
    "df = df[~df.Administrative.isnull()]\n",
    "df = df[~df.Administrative_Duration.isnull()]   \n",
    "df = df[~df.Informational.isnull()] \n",
    "df = df[~df.Informational_Duration.isnull()]\n",
    "df = df[~df.ProductRelated.isnull()]\n",
    "df = df[~df.ProductRelated_Duration.isnull()]"
   ]
  },
  {
   "cell_type": "code",
   "execution_count": 8,
   "metadata": {},
   "outputs": [
    {
     "data": {
      "text/plain": [
       "(12283, 18)"
      ]
     },
     "execution_count": 8,
     "metadata": {},
     "output_type": "execute_result"
    }
   ],
   "source": [
    "df.shape"
   ]
  },
  {
   "cell_type": "code",
   "execution_count": 9,
   "metadata": {},
   "outputs": [
    {
     "data": {
      "text/plain": [
       "99.61881589618815"
      ]
     },
     "execution_count": 9,
     "metadata": {},
     "output_type": "execute_result"
    }
   ],
   "source": [
    "df = df[~df.ProductRelated_Duration.isnull()]   \n",
    "len(df)*100/12330"
   ]
  },
  {
   "cell_type": "code",
   "execution_count": 10,
   "metadata": {},
   "outputs": [
    {
     "data": {
      "text/html": [
       "<div>\n",
       "<style scoped>\n",
       "    .dataframe tbody tr th:only-of-type {\n",
       "        vertical-align: middle;\n",
       "    }\n",
       "\n",
       "    .dataframe tbody tr th {\n",
       "        vertical-align: top;\n",
       "    }\n",
       "\n",
       "    .dataframe thead th {\n",
       "        text-align: right;\n",
       "    }\n",
       "</style>\n",
       "<table border=\"1\" class=\"dataframe\">\n",
       "  <thead>\n",
       "    <tr style=\"text-align: right;\">\n",
       "      <th></th>\n",
       "      <th>Administrative</th>\n",
       "      <th>Administrative_Duration</th>\n",
       "      <th>Informational</th>\n",
       "      <th>Informational_Duration</th>\n",
       "      <th>ProductRelated</th>\n",
       "      <th>ProductRelated_Duration</th>\n",
       "      <th>BounceRates</th>\n",
       "      <th>ExitRates</th>\n",
       "      <th>PageValues</th>\n",
       "      <th>SpecialDay</th>\n",
       "      <th>Month</th>\n",
       "      <th>OperatingSystems</th>\n",
       "      <th>Browser</th>\n",
       "      <th>Region</th>\n",
       "      <th>TrafficType</th>\n",
       "      <th>VisitorType</th>\n",
       "      <th>Weekend</th>\n",
       "      <th>Revenue</th>\n",
       "    </tr>\n",
       "  </thead>\n",
       "  <tbody>\n",
       "    <tr>\n",
       "      <th>57</th>\n",
       "      <td>4.0</td>\n",
       "      <td>56.000000</td>\n",
       "      <td>2.0</td>\n",
       "      <td>120.0</td>\n",
       "      <td>36.0</td>\n",
       "      <td>998.741667</td>\n",
       "      <td>0.000000</td>\n",
       "      <td>0.014736</td>\n",
       "      <td>19.447079</td>\n",
       "      <td>0.2</td>\n",
       "      <td>Feb</td>\n",
       "      <td>2</td>\n",
       "      <td>2</td>\n",
       "      <td>4</td>\n",
       "      <td>1</td>\n",
       "      <td>Returning_Visitor</td>\n",
       "      <td>False</td>\n",
       "      <td>False</td>\n",
       "    </tr>\n",
       "    <tr>\n",
       "      <th>103</th>\n",
       "      <td>2.0</td>\n",
       "      <td>31.000000</td>\n",
       "      <td>1.0</td>\n",
       "      <td>16.0</td>\n",
       "      <td>36.0</td>\n",
       "      <td>2083.530952</td>\n",
       "      <td>0.000000</td>\n",
       "      <td>0.013510</td>\n",
       "      <td>0.000000</td>\n",
       "      <td>0.8</td>\n",
       "      <td>Feb</td>\n",
       "      <td>2</td>\n",
       "      <td>2</td>\n",
       "      <td>4</td>\n",
       "      <td>3</td>\n",
       "      <td>Returning_Visitor</td>\n",
       "      <td>False</td>\n",
       "      <td>False</td>\n",
       "    </tr>\n",
       "    <tr>\n",
       "      <th>109</th>\n",
       "      <td>6.0</td>\n",
       "      <td>326.250000</td>\n",
       "      <td>4.0</td>\n",
       "      <td>94.0</td>\n",
       "      <td>128.0</td>\n",
       "      <td>5062.213753</td>\n",
       "      <td>0.000855</td>\n",
       "      <td>0.017918</td>\n",
       "      <td>0.000000</td>\n",
       "      <td>0.0</td>\n",
       "      <td>Feb</td>\n",
       "      <td>2</td>\n",
       "      <td>5</td>\n",
       "      <td>1</td>\n",
       "      <td>3</td>\n",
       "      <td>Returning_Visitor</td>\n",
       "      <td>False</td>\n",
       "      <td>False</td>\n",
       "    </tr>\n",
       "    <tr>\n",
       "      <th>161</th>\n",
       "      <td>2.0</td>\n",
       "      <td>58.000000</td>\n",
       "      <td>2.0</td>\n",
       "      <td>22.0</td>\n",
       "      <td>31.0</td>\n",
       "      <td>829.166667</td>\n",
       "      <td>0.030303</td>\n",
       "      <td>0.040606</td>\n",
       "      <td>0.000000</td>\n",
       "      <td>0.0</td>\n",
       "      <td>Feb</td>\n",
       "      <td>1</td>\n",
       "      <td>1</td>\n",
       "      <td>1</td>\n",
       "      <td>1</td>\n",
       "      <td>Returning_Visitor</td>\n",
       "      <td>True</td>\n",
       "      <td>False</td>\n",
       "    </tr>\n",
       "    <tr>\n",
       "      <th>187</th>\n",
       "      <td>10.0</td>\n",
       "      <td>293.778205</td>\n",
       "      <td>2.0</td>\n",
       "      <td>153.0</td>\n",
       "      <td>96.0</td>\n",
       "      <td>3283.166739</td>\n",
       "      <td>0.001961</td>\n",
       "      <td>0.013509</td>\n",
       "      <td>0.000000</td>\n",
       "      <td>0.0</td>\n",
       "      <td>Mar</td>\n",
       "      <td>3</td>\n",
       "      <td>2</td>\n",
       "      <td>6</td>\n",
       "      <td>2</td>\n",
       "      <td>Returning_Visitor</td>\n",
       "      <td>True</td>\n",
       "      <td>False</td>\n",
       "    </tr>\n",
       "  </tbody>\n",
       "</table>\n",
       "</div>"
      ],
      "text/plain": [
       "     Administrative  Administrative_Duration  Informational  \\\n",
       "57              4.0                56.000000            2.0   \n",
       "103             2.0                31.000000            1.0   \n",
       "109             6.0               326.250000            4.0   \n",
       "161             2.0                58.000000            2.0   \n",
       "187            10.0               293.778205            2.0   \n",
       "\n",
       "     Informational_Duration  ProductRelated  ProductRelated_Duration  \\\n",
       "57                    120.0            36.0               998.741667   \n",
       "103                    16.0            36.0              2083.530952   \n",
       "109                    94.0           128.0              5062.213753   \n",
       "161                    22.0            31.0               829.166667   \n",
       "187                   153.0            96.0              3283.166739   \n",
       "\n",
       "     BounceRates  ExitRates  PageValues  SpecialDay Month  OperatingSystems  \\\n",
       "57      0.000000   0.014736   19.447079         0.2   Feb                 2   \n",
       "103     0.000000   0.013510    0.000000         0.8   Feb                 2   \n",
       "109     0.000855   0.017918    0.000000         0.0   Feb                 2   \n",
       "161     0.030303   0.040606    0.000000         0.0   Feb                 1   \n",
       "187     0.001961   0.013509    0.000000         0.0   Mar                 3   \n",
       "\n",
       "     Browser  Region  TrafficType        VisitorType  Weekend  Revenue  \n",
       "57         2       4            1  Returning_Visitor    False    False  \n",
       "103        2       4            3  Returning_Visitor    False    False  \n",
       "109        5       1            3  Returning_Visitor    False    False  \n",
       "161        1       1            1  Returning_Visitor     True    False  \n",
       "187        2       6            2  Returning_Visitor     True    False  "
      ]
     },
     "execution_count": 10,
     "metadata": {},
     "output_type": "execute_result"
    }
   ],
   "source": [
    "df_w = df\n",
    "for col in df_w.columns[0:6]:\n",
    "    df_w = df_w[ df_w[col] != 0 ]\n",
    "    \n",
    "df_w.head()"
   ]
  },
  {
   "cell_type": "code",
   "execution_count": 11,
   "metadata": {},
   "outputs": [
    {
     "data": {
      "text/plain": [
       "(1981, 18)"
      ]
     },
     "execution_count": 11,
     "metadata": {},
     "output_type": "execute_result"
    }
   ],
   "source": [
    "df_w.shape"
   ]
  },
  {
   "cell_type": "raw",
   "metadata": {},
   "source": [
    "df_w.to_csv(\"transactions.csv\", header=True)"
   ]
  },
  {
   "cell_type": "code",
   "execution_count": 12,
   "metadata": {},
   "outputs": [
    {
     "data": {
      "text/plain": [
       "array(['Administrative', 'Administrative_Duration', 'Informational',\n",
       "       'Informational_Duration', 'ProductRelated',\n",
       "       'ProductRelated_Duration', 'BounceRates', 'ExitRates',\n",
       "       'PageValues', 'SpecialDay', 'Month', 'OperatingSystems', 'Browser',\n",
       "       'Region', 'TrafficType', 'VisitorType', 'Weekend', 'Revenue'],\n",
       "      dtype='<U23')"
      ]
     },
     "execution_count": 12,
     "metadata": {},
     "output_type": "execute_result"
    }
   ],
   "source": [
    "cols = np.transpose(df_w.columns.tolist())\n",
    "cols"
   ]
  },
  {
   "cell_type": "markdown",
   "metadata": {},
   "source": [
    "### Features\n",
    "\n",
    "Data set consists of 10 numerical and 8 categorical attributes. "
   ]
  },
  {
   "cell_type": "code",
   "execution_count": 13,
   "metadata": {},
   "outputs": [
    {
     "data": {
      "text/html": [
       "<div>\n",
       "<style scoped>\n",
       "    .dataframe tbody tr th:only-of-type {\n",
       "        vertical-align: middle;\n",
       "    }\n",
       "\n",
       "    .dataframe tbody tr th {\n",
       "        vertical-align: top;\n",
       "    }\n",
       "\n",
       "    .dataframe thead th {\n",
       "        text-align: right;\n",
       "    }\n",
       "</style>\n",
       "<table border=\"1\" class=\"dataframe\">\n",
       "  <thead>\n",
       "    <tr style=\"text-align: right;\">\n",
       "      <th></th>\n",
       "      <th>Administrative</th>\n",
       "      <th>Administrative_Duration</th>\n",
       "      <th>Informational</th>\n",
       "      <th>Informational_Duration</th>\n",
       "      <th>ProductRelated</th>\n",
       "      <th>BounceRates</th>\n",
       "      <th>ExitRates</th>\n",
       "      <th>PageValues</th>\n",
       "      <th>SpecialDay</th>\n",
       "      <th>Month</th>\n",
       "    </tr>\n",
       "  </thead>\n",
       "  <tbody>\n",
       "    <tr>\n",
       "      <th>0</th>\n",
       "      <td>0.0</td>\n",
       "      <td>0.0</td>\n",
       "      <td>0.0</td>\n",
       "      <td>0.0</td>\n",
       "      <td>1.0</td>\n",
       "      <td>0.200000</td>\n",
       "      <td>0.200000</td>\n",
       "      <td>0.0</td>\n",
       "      <td>0.0</td>\n",
       "      <td>Feb</td>\n",
       "    </tr>\n",
       "    <tr>\n",
       "      <th>1</th>\n",
       "      <td>0.0</td>\n",
       "      <td>0.0</td>\n",
       "      <td>0.0</td>\n",
       "      <td>0.0</td>\n",
       "      <td>2.0</td>\n",
       "      <td>0.000000</td>\n",
       "      <td>0.100000</td>\n",
       "      <td>0.0</td>\n",
       "      <td>0.0</td>\n",
       "      <td>Feb</td>\n",
       "    </tr>\n",
       "    <tr>\n",
       "      <th>3</th>\n",
       "      <td>0.0</td>\n",
       "      <td>0.0</td>\n",
       "      <td>0.0</td>\n",
       "      <td>0.0</td>\n",
       "      <td>2.0</td>\n",
       "      <td>0.050000</td>\n",
       "      <td>0.140000</td>\n",
       "      <td>0.0</td>\n",
       "      <td>0.0</td>\n",
       "      <td>Feb</td>\n",
       "    </tr>\n",
       "    <tr>\n",
       "      <th>4</th>\n",
       "      <td>0.0</td>\n",
       "      <td>0.0</td>\n",
       "      <td>0.0</td>\n",
       "      <td>0.0</td>\n",
       "      <td>10.0</td>\n",
       "      <td>0.020000</td>\n",
       "      <td>0.050000</td>\n",
       "      <td>0.0</td>\n",
       "      <td>0.0</td>\n",
       "      <td>Feb</td>\n",
       "    </tr>\n",
       "    <tr>\n",
       "      <th>5</th>\n",
       "      <td>0.0</td>\n",
       "      <td>0.0</td>\n",
       "      <td>0.0</td>\n",
       "      <td>0.0</td>\n",
       "      <td>19.0</td>\n",
       "      <td>0.015789</td>\n",
       "      <td>0.024561</td>\n",
       "      <td>0.0</td>\n",
       "      <td>0.0</td>\n",
       "      <td>Feb</td>\n",
       "    </tr>\n",
       "  </tbody>\n",
       "</table>\n",
       "</div>"
      ],
      "text/plain": [
       "   Administrative  Administrative_Duration  Informational  \\\n",
       "0             0.0                      0.0            0.0   \n",
       "1             0.0                      0.0            0.0   \n",
       "3             0.0                      0.0            0.0   \n",
       "4             0.0                      0.0            0.0   \n",
       "5             0.0                      0.0            0.0   \n",
       "\n",
       "   Informational_Duration  ProductRelated  BounceRates  ExitRates  PageValues  \\\n",
       "0                     0.0             1.0     0.200000   0.200000         0.0   \n",
       "1                     0.0             2.0     0.000000   0.100000         0.0   \n",
       "3                     0.0             2.0     0.050000   0.140000         0.0   \n",
       "4                     0.0            10.0     0.020000   0.050000         0.0   \n",
       "5                     0.0            19.0     0.015789   0.024561         0.0   \n",
       "\n",
       "   SpecialDay Month  \n",
       "0         0.0   Feb  \n",
       "1         0.0   Feb  \n",
       "3         0.0   Feb  \n",
       "4         0.0   Feb  \n",
       "5         0.0   Feb  "
      ]
     },
     "execution_count": 13,
     "metadata": {},
     "output_type": "execute_result"
    }
   ],
   "source": [
    "df[['Administrative', 'Administrative_Duration', 'Informational', 'Informational_Duration', 'ProductRelated','BounceRates', 'ExitRates', 'PageValues', 'SpecialDay', 'Month']].head()"
   ]
  },
  {
   "cell_type": "code",
   "execution_count": 14,
   "metadata": {},
   "outputs": [
    {
     "data": {
      "text/html": [
       "<div>\n",
       "<style scoped>\n",
       "    .dataframe tbody tr th:only-of-type {\n",
       "        vertical-align: middle;\n",
       "    }\n",
       "\n",
       "    .dataframe tbody tr th {\n",
       "        vertical-align: top;\n",
       "    }\n",
       "\n",
       "    .dataframe thead th {\n",
       "        text-align: right;\n",
       "    }\n",
       "</style>\n",
       "<table border=\"1\" class=\"dataframe\">\n",
       "  <thead>\n",
       "    <tr style=\"text-align: right;\">\n",
       "      <th></th>\n",
       "      <th>OperatingSystems</th>\n",
       "      <th>Browser</th>\n",
       "      <th>Region</th>\n",
       "      <th>TrafficType</th>\n",
       "      <th>VisitorType</th>\n",
       "      <th>Weekend</th>\n",
       "      <th>Revenue</th>\n",
       "    </tr>\n",
       "  </thead>\n",
       "  <tbody>\n",
       "    <tr>\n",
       "      <th>0</th>\n",
       "      <td>1</td>\n",
       "      <td>1</td>\n",
       "      <td>1</td>\n",
       "      <td>1</td>\n",
       "      <td>Returning_Visitor</td>\n",
       "      <td>False</td>\n",
       "      <td>False</td>\n",
       "    </tr>\n",
       "    <tr>\n",
       "      <th>1</th>\n",
       "      <td>2</td>\n",
       "      <td>2</td>\n",
       "      <td>1</td>\n",
       "      <td>2</td>\n",
       "      <td>Returning_Visitor</td>\n",
       "      <td>False</td>\n",
       "      <td>False</td>\n",
       "    </tr>\n",
       "    <tr>\n",
       "      <th>3</th>\n",
       "      <td>3</td>\n",
       "      <td>2</td>\n",
       "      <td>2</td>\n",
       "      <td>4</td>\n",
       "      <td>Returning_Visitor</td>\n",
       "      <td>False</td>\n",
       "      <td>False</td>\n",
       "    </tr>\n",
       "    <tr>\n",
       "      <th>4</th>\n",
       "      <td>3</td>\n",
       "      <td>3</td>\n",
       "      <td>1</td>\n",
       "      <td>4</td>\n",
       "      <td>Returning_Visitor</td>\n",
       "      <td>True</td>\n",
       "      <td>False</td>\n",
       "    </tr>\n",
       "    <tr>\n",
       "      <th>5</th>\n",
       "      <td>2</td>\n",
       "      <td>2</td>\n",
       "      <td>1</td>\n",
       "      <td>3</td>\n",
       "      <td>Returning_Visitor</td>\n",
       "      <td>False</td>\n",
       "      <td>False</td>\n",
       "    </tr>\n",
       "  </tbody>\n",
       "</table>\n",
       "</div>"
      ],
      "text/plain": [
       "   OperatingSystems  Browser  Region  TrafficType        VisitorType  Weekend  \\\n",
       "0                 1        1       1            1  Returning_Visitor    False   \n",
       "1                 2        2       1            2  Returning_Visitor    False   \n",
       "3                 3        2       2            4  Returning_Visitor    False   \n",
       "4                 3        3       1            4  Returning_Visitor     True   \n",
       "5                 2        2       1            3  Returning_Visitor    False   \n",
       "\n",
       "   Revenue  \n",
       "0    False  \n",
       "1    False  \n",
       "3    False  \n",
       "4    False  \n",
       "5    False  "
      ]
     },
     "execution_count": 14,
     "metadata": {},
     "output_type": "execute_result"
    }
   ],
   "source": [
    "df [ ['OperatingSystems', 'Browser', 'Region', 'TrafficType', 'VisitorType','Weekend', 'Revenue'] ].head()"
   ]
  },
  {
   "cell_type": "code",
   "execution_count": 15,
   "metadata": {},
   "outputs": [
    {
     "data": {
      "image/png": "[encoded data removed]",
      "text/plain": [
       "<Figure size 864x72 with 1 Axes>"
      ]
     },
     "metadata": {
      "needs_background": "light"
     },
     "output_type": "display_data"
    },
    {
     "data": {
      "image/png": "[encoded data removed]",
      "text/plain": [
       "<Figure size 864x72 with 1 Axes>"
      ]
     },
     "metadata": {
      "needs_background": "light"
     },
     "output_type": "display_data"
    },
    {
     "data": {
      "image/png": "[encoded data removed]",
      "text/plain": [
       "<Figure size 864x72 with 1 Axes>"
      ]
     },
     "metadata": {
      "needs_background": "light"
     },
     "output_type": "display_data"
    },
    {
     "data": {
      "image/png": "[encoded data removed]",
      "text/plain": [
       "<Figure size 864x72 with 1 Axes>"
      ]
     },
     "metadata": {
      "needs_background": "light"
     },
     "output_type": "display_data"
    },
    {
     "data": {
      "image/png": "[encoded data removed]",
      "text/plain": [
       "<Figure size 864x72 with 1 Axes>"
      ]
     },
     "metadata": {
      "needs_background": "light"
     },
     "output_type": "display_data"
    },
    {
     "data": {
      "image/png": "[encoded data removed]",
      "text/plain": [
       "<Figure size 864x72 with 1 Axes>"
      ]
     },
     "metadata": {
      "needs_background": "light"
     },
     "output_type": "display_data"
    }
   ],
   "source": [
    "cols1 = ['Administrative', 'Administrative_Duration', 'Informational',\n",
    "       'Informational_Duration', 'ProductRelated', 'ProductRelated_Duration']\n",
    "for col in cols1:\n",
    "    plt.figure(figsize=(12,1))\n",
    "    plt.hist(df[col], bins=60, label=col)\n",
    "    plt.legend()\n",
    "    plt.grid()\n",
    "    plt.grid()\n",
    "    plt.plot()"
   ]
  },
  {
   "cell_type": "code",
   "execution_count": 16,
   "metadata": {},
   "outputs": [],
   "source": [
    "df1 = df[ df['Revenue']==True ]\n",
    "df2 = df[ df['Revenue']==False ]"
   ]
  },
  {
   "cell_type": "code",
   "execution_count": 17,
   "metadata": {},
   "outputs": [
    {
     "data": {
      "text/html": [
       "<div>\n",
       "<style scoped>\n",
       "    .dataframe tbody tr th:only-of-type {\n",
       "        vertical-align: middle;\n",
       "    }\n",
       "\n",
       "    .dataframe tbody tr th {\n",
       "        vertical-align: top;\n",
       "    }\n",
       "\n",
       "    .dataframe thead th {\n",
       "        text-align: right;\n",
       "    }\n",
       "</style>\n",
       "<table border=\"1\" class=\"dataframe\">\n",
       "  <thead>\n",
       "    <tr style=\"text-align: right;\">\n",
       "      <th></th>\n",
       "      <th>Administrative</th>\n",
       "      <th>Administrative_Duration</th>\n",
       "      <th>Informational</th>\n",
       "      <th>Informational_Duration</th>\n",
       "      <th>ProductRelated</th>\n",
       "      <th>ProductRelated_Duration</th>\n",
       "      <th>BounceRates</th>\n",
       "      <th>ExitRates</th>\n",
       "      <th>PageValues</th>\n",
       "      <th>SpecialDay</th>\n",
       "      <th>OperatingSystems</th>\n",
       "      <th>Browser</th>\n",
       "      <th>Region</th>\n",
       "      <th>TrafficType</th>\n",
       "    </tr>\n",
       "  </thead>\n",
       "  <tbody>\n",
       "    <tr>\n",
       "      <th>count</th>\n",
       "      <td>1908.000000</td>\n",
       "      <td>1908.000000</td>\n",
       "      <td>1908.000000</td>\n",
       "      <td>1908.000000</td>\n",
       "      <td>1908.000000</td>\n",
       "      <td>1908.000000</td>\n",
       "      <td>1908.000000</td>\n",
       "      <td>1908.000000</td>\n",
       "      <td>1908.000000</td>\n",
       "      <td>1908.000000</td>\n",
       "      <td>1908.000000</td>\n",
       "      <td>1908.000000</td>\n",
       "      <td>1908.000000</td>\n",
       "      <td>1908.000000</td>\n",
       "    </tr>\n",
       "    <tr>\n",
       "      <th>mean</th>\n",
       "      <td>3.393606</td>\n",
       "      <td>119.483244</td>\n",
       "      <td>0.786164</td>\n",
       "      <td>57.611427</td>\n",
       "      <td>48.210168</td>\n",
       "      <td>1876.209615</td>\n",
       "      <td>0.005117</td>\n",
       "      <td>0.019555</td>\n",
       "      <td>27.264518</td>\n",
       "      <td>0.023166</td>\n",
       "      <td>2.092767</td>\n",
       "      <td>2.453354</td>\n",
       "      <td>3.082285</td>\n",
       "      <td>4.021488</td>\n",
       "    </tr>\n",
       "    <tr>\n",
       "      <th>std</th>\n",
       "      <td>3.730527</td>\n",
       "      <td>201.114732</td>\n",
       "      <td>1.521176</td>\n",
       "      <td>171.619131</td>\n",
       "      <td>58.267365</td>\n",
       "      <td>2312.214392</td>\n",
       "      <td>0.012185</td>\n",
       "      <td>0.016463</td>\n",
       "      <td>35.191954</td>\n",
       "      <td>0.123521</td>\n",
       "      <td>0.929779</td>\n",
       "      <td>1.897042</td>\n",
       "      <td>2.407173</td>\n",
       "      <td>3.987140</td>\n",
       "    </tr>\n",
       "    <tr>\n",
       "      <th>min</th>\n",
       "      <td>0.000000</td>\n",
       "      <td>0.000000</td>\n",
       "      <td>0.000000</td>\n",
       "      <td>0.000000</td>\n",
       "      <td>0.000000</td>\n",
       "      <td>0.000000</td>\n",
       "      <td>0.000000</td>\n",
       "      <td>0.000000</td>\n",
       "      <td>0.000000</td>\n",
       "      <td>0.000000</td>\n",
       "      <td>1.000000</td>\n",
       "      <td>1.000000</td>\n",
       "      <td>1.000000</td>\n",
       "      <td>1.000000</td>\n",
       "    </tr>\n",
       "    <tr>\n",
       "      <th>25%</th>\n",
       "      <td>0.000000</td>\n",
       "      <td>0.000000</td>\n",
       "      <td>0.000000</td>\n",
       "      <td>0.000000</td>\n",
       "      <td>15.000000</td>\n",
       "      <td>541.906250</td>\n",
       "      <td>0.000000</td>\n",
       "      <td>0.009521</td>\n",
       "      <td>3.641144</td>\n",
       "      <td>0.000000</td>\n",
       "      <td>2.000000</td>\n",
       "      <td>2.000000</td>\n",
       "      <td>1.000000</td>\n",
       "      <td>2.000000</td>\n",
       "    </tr>\n",
       "    <tr>\n",
       "      <th>50%</th>\n",
       "      <td>2.000000</td>\n",
       "      <td>52.366667</td>\n",
       "      <td>0.000000</td>\n",
       "      <td>0.000000</td>\n",
       "      <td>29.000000</td>\n",
       "      <td>1109.906250</td>\n",
       "      <td>0.000000</td>\n",
       "      <td>0.016000</td>\n",
       "      <td>16.758134</td>\n",
       "      <td>0.000000</td>\n",
       "      <td>2.000000</td>\n",
       "      <td>2.000000</td>\n",
       "      <td>2.000000</td>\n",
       "      <td>2.000000</td>\n",
       "    </tr>\n",
       "    <tr>\n",
       "      <th>75%</th>\n",
       "      <td>5.000000</td>\n",
       "      <td>151.083333</td>\n",
       "      <td>1.000000</td>\n",
       "      <td>19.000000</td>\n",
       "      <td>57.000000</td>\n",
       "      <td>2266.011310</td>\n",
       "      <td>0.006452</td>\n",
       "      <td>0.025000</td>\n",
       "      <td>38.897742</td>\n",
       "      <td>0.000000</td>\n",
       "      <td>2.000000</td>\n",
       "      <td>2.000000</td>\n",
       "      <td>4.000000</td>\n",
       "      <td>4.000000</td>\n",
       "    </tr>\n",
       "    <tr>\n",
       "      <th>max</th>\n",
       "      <td>26.000000</td>\n",
       "      <td>2086.750000</td>\n",
       "      <td>12.000000</td>\n",
       "      <td>1767.666667</td>\n",
       "      <td>534.000000</td>\n",
       "      <td>27009.859430</td>\n",
       "      <td>0.200000</td>\n",
       "      <td>0.200000</td>\n",
       "      <td>361.763742</td>\n",
       "      <td>1.000000</td>\n",
       "      <td>8.000000</td>\n",
       "      <td>13.000000</td>\n",
       "      <td>9.000000</td>\n",
       "      <td>20.000000</td>\n",
       "    </tr>\n",
       "  </tbody>\n",
       "</table>\n",
       "</div>"
      ],
      "text/plain": [
       "       Administrative  Administrative_Duration  Informational  \\\n",
       "count     1908.000000              1908.000000    1908.000000   \n",
       "mean         3.393606               119.483244       0.786164   \n",
       "std          3.730527               201.114732       1.521176   \n",
       "min          0.000000                 0.000000       0.000000   \n",
       "25%          0.000000                 0.000000       0.000000   \n",
       "50%          2.000000                52.366667       0.000000   \n",
       "75%          5.000000               151.083333       1.000000   \n",
       "max         26.000000              2086.750000      12.000000   \n",
       "\n",
       "       Informational_Duration  ProductRelated  ProductRelated_Duration  \\\n",
       "count             1908.000000     1908.000000              1908.000000   \n",
       "mean                57.611427       48.210168              1876.209615   \n",
       "std                171.619131       58.267365              2312.214392   \n",
       "min                  0.000000        0.000000                 0.000000   \n",
       "25%                  0.000000       15.000000               541.906250   \n",
       "50%                  0.000000       29.000000              1109.906250   \n",
       "75%                 19.000000       57.000000              2266.011310   \n",
       "max               1767.666667      534.000000             27009.859430   \n",
       "\n",
       "       BounceRates    ExitRates   PageValues   SpecialDay  OperatingSystems  \\\n",
       "count  1908.000000  1908.000000  1908.000000  1908.000000       1908.000000   \n",
       "mean      0.005117     0.019555    27.264518     0.023166          2.092767   \n",
       "std       0.012185     0.016463    35.191954     0.123521          0.929779   \n",
       "min       0.000000     0.000000     0.000000     0.000000          1.000000   \n",
       "25%       0.000000     0.009521     3.641144     0.000000          2.000000   \n",
       "50%       0.000000     0.016000    16.758134     0.000000          2.000000   \n",
       "75%       0.006452     0.025000    38.897742     0.000000          2.000000   \n",
       "max       0.200000     0.200000   361.763742     1.000000          8.000000   \n",
       "\n",
       "           Browser       Region  TrafficType  \n",
       "count  1908.000000  1908.000000  1908.000000  \n",
       "mean      2.453354     3.082285     4.021488  \n",
       "std       1.897042     2.407173     3.987140  \n",
       "min       1.000000     1.000000     1.000000  \n",
       "25%       2.000000     1.000000     2.000000  \n",
       "50%       2.000000     2.000000     2.000000  \n",
       "75%       2.000000     4.000000     4.000000  \n",
       "max      13.000000     9.000000    20.000000  "
      ]
     },
     "execution_count": 17,
     "metadata": {},
     "output_type": "execute_result"
    }
   ],
   "source": [
    "df1.describe()"
   ]
  },
  {
   "cell_type": "code",
   "execution_count": 18,
   "metadata": {},
   "outputs": [
    {
     "data": {
      "text/html": [
       "<div>\n",
       "<style scoped>\n",
       "    .dataframe tbody tr th:only-of-type {\n",
       "        vertical-align: middle;\n",
       "    }\n",
       "\n",
       "    .dataframe tbody tr th {\n",
       "        vertical-align: top;\n",
       "    }\n",
       "\n",
       "    .dataframe thead th {\n",
       "        text-align: right;\n",
       "    }\n",
       "</style>\n",
       "<table border=\"1\" class=\"dataframe\">\n",
       "  <thead>\n",
       "    <tr style=\"text-align: right;\">\n",
       "      <th></th>\n",
       "      <th>Administrative</th>\n",
       "      <th>Administrative_Duration</th>\n",
       "      <th>Informational</th>\n",
       "      <th>Informational_Duration</th>\n",
       "      <th>ProductRelated</th>\n",
       "      <th>ProductRelated_Duration</th>\n",
       "      <th>BounceRates</th>\n",
       "      <th>ExitRates</th>\n",
       "      <th>PageValues</th>\n",
       "      <th>SpecialDay</th>\n",
       "      <th>OperatingSystems</th>\n",
       "      <th>Browser</th>\n",
       "      <th>Region</th>\n",
       "      <th>TrafficType</th>\n",
       "    </tr>\n",
       "  </thead>\n",
       "  <tbody>\n",
       "    <tr>\n",
       "      <th>count</th>\n",
       "      <td>10375.000000</td>\n",
       "      <td>10375.000000</td>\n",
       "      <td>10375.000000</td>\n",
       "      <td>10375.000000</td>\n",
       "      <td>10375.000000</td>\n",
       "      <td>10375.000000</td>\n",
       "      <td>10375.000000</td>\n",
       "      <td>10375.000000</td>\n",
       "      <td>10375.000000</td>\n",
       "      <td>10375.000000</td>\n",
       "      <td>10375.000000</td>\n",
       "      <td>10375.000000</td>\n",
       "      <td>10375.000000</td>\n",
       "      <td>10375.000000</td>\n",
       "    </tr>\n",
       "    <tr>\n",
       "      <th>mean</th>\n",
       "      <td>2.127133</td>\n",
       "      <td>74.072235</td>\n",
       "      <td>0.453687</td>\n",
       "      <td>30.370223</td>\n",
       "      <td>28.837205</td>\n",
       "      <td>1074.758308</td>\n",
       "      <td>0.024777</td>\n",
       "      <td>0.046851</td>\n",
       "      <td>1.984949</td>\n",
       "      <td>0.068588</td>\n",
       "      <td>2.130120</td>\n",
       "      <td>2.339277</td>\n",
       "      <td>3.159036</td>\n",
       "      <td>4.081253</td>\n",
       "    </tr>\n",
       "    <tr>\n",
       "      <th>std</th>\n",
       "      <td>3.206644</td>\n",
       "      <td>171.333453</td>\n",
       "      <td>1.213855</td>\n",
       "      <td>134.197135</td>\n",
       "      <td>40.795998</td>\n",
       "      <td>1806.480766</td>\n",
       "      <td>0.051037</td>\n",
       "      <td>0.050577</td>\n",
       "      <td>9.091975</td>\n",
       "      <td>0.209324</td>\n",
       "      <td>0.908284</td>\n",
       "      <td>1.681611</td>\n",
       "      <td>2.400951</td>\n",
       "      <td>4.032551</td>\n",
       "    </tr>\n",
       "    <tr>\n",
       "      <th>min</th>\n",
       "      <td>0.000000</td>\n",
       "      <td>0.000000</td>\n",
       "      <td>0.000000</td>\n",
       "      <td>0.000000</td>\n",
       "      <td>0.000000</td>\n",
       "      <td>0.000000</td>\n",
       "      <td>0.000000</td>\n",
       "      <td>0.000000</td>\n",
       "      <td>0.000000</td>\n",
       "      <td>0.000000</td>\n",
       "      <td>1.000000</td>\n",
       "      <td>1.000000</td>\n",
       "      <td>1.000000</td>\n",
       "      <td>1.000000</td>\n",
       "    </tr>\n",
       "    <tr>\n",
       "      <th>25%</th>\n",
       "      <td>0.000000</td>\n",
       "      <td>0.000000</td>\n",
       "      <td>0.000000</td>\n",
       "      <td>0.000000</td>\n",
       "      <td>7.000000</td>\n",
       "      <td>154.950000</td>\n",
       "      <td>0.000000</td>\n",
       "      <td>0.015497</td>\n",
       "      <td>0.000000</td>\n",
       "      <td>0.000000</td>\n",
       "      <td>2.000000</td>\n",
       "      <td>2.000000</td>\n",
       "      <td>1.000000</td>\n",
       "      <td>2.000000</td>\n",
       "    </tr>\n",
       "    <tr>\n",
       "      <th>50%</th>\n",
       "      <td>0.000000</td>\n",
       "      <td>0.000000</td>\n",
       "      <td>0.000000</td>\n",
       "      <td>0.000000</td>\n",
       "      <td>16.000000</td>\n",
       "      <td>516.476191</td>\n",
       "      <td>0.004167</td>\n",
       "      <td>0.028571</td>\n",
       "      <td>0.000000</td>\n",
       "      <td>0.000000</td>\n",
       "      <td>2.000000</td>\n",
       "      <td>2.000000</td>\n",
       "      <td>3.000000</td>\n",
       "      <td>2.000000</td>\n",
       "    </tr>\n",
       "    <tr>\n",
       "      <th>75%</th>\n",
       "      <td>3.000000</td>\n",
       "      <td>83.700000</td>\n",
       "      <td>0.000000</td>\n",
       "      <td>0.000000</td>\n",
       "      <td>35.000000</td>\n",
       "      <td>1336.899838</td>\n",
       "      <td>0.020000</td>\n",
       "      <td>0.053333</td>\n",
       "      <td>0.000000</td>\n",
       "      <td>0.000000</td>\n",
       "      <td>3.000000</td>\n",
       "      <td>2.000000</td>\n",
       "      <td>4.000000</td>\n",
       "      <td>4.000000</td>\n",
       "    </tr>\n",
       "    <tr>\n",
       "      <th>max</th>\n",
       "      <td>27.000000</td>\n",
       "      <td>3398.750000</td>\n",
       "      <td>24.000000</td>\n",
       "      <td>2549.375000</td>\n",
       "      <td>705.000000</td>\n",
       "      <td>63973.522230</td>\n",
       "      <td>0.200000</td>\n",
       "      <td>0.200000</td>\n",
       "      <td>246.758590</td>\n",
       "      <td>1.000000</td>\n",
       "      <td>8.000000</td>\n",
       "      <td>13.000000</td>\n",
       "      <td>9.000000</td>\n",
       "      <td>20.000000</td>\n",
       "    </tr>\n",
       "  </tbody>\n",
       "</table>\n",
       "</div>"
      ],
      "text/plain": [
       "       Administrative  Administrative_Duration  Informational  \\\n",
       "count    10375.000000             10375.000000   10375.000000   \n",
       "mean         2.127133                74.072235       0.453687   \n",
       "std          3.206644               171.333453       1.213855   \n",
       "min          0.000000                 0.000000       0.000000   \n",
       "25%          0.000000                 0.000000       0.000000   \n",
       "50%          0.000000                 0.000000       0.000000   \n",
       "75%          3.000000                83.700000       0.000000   \n",
       "max         27.000000              3398.750000      24.000000   \n",
       "\n",
       "       Informational_Duration  ProductRelated  ProductRelated_Duration  \\\n",
       "count            10375.000000    10375.000000             10375.000000   \n",
       "mean                30.370223       28.837205              1074.758308   \n",
       "std                134.197135       40.795998              1806.480766   \n",
       "min                  0.000000        0.000000                 0.000000   \n",
       "25%                  0.000000        7.000000               154.950000   \n",
       "50%                  0.000000       16.000000               516.476191   \n",
       "75%                  0.000000       35.000000              1336.899838   \n",
       "max               2549.375000      705.000000             63973.522230   \n",
       "\n",
       "        BounceRates     ExitRates    PageValues    SpecialDay  \\\n",
       "count  10375.000000  10375.000000  10375.000000  10375.000000   \n",
       "mean       0.024777      0.046851      1.984949      0.068588   \n",
       "std        0.051037      0.050577      9.091975      0.209324   \n",
       "min        0.000000      0.000000      0.000000      0.000000   \n",
       "25%        0.000000      0.015497      0.000000      0.000000   \n",
       "50%        0.004167      0.028571      0.000000      0.000000   \n",
       "75%        0.020000      0.053333      0.000000      0.000000   \n",
       "max        0.200000      0.200000    246.758590      1.000000   \n",
       "\n",
       "       OperatingSystems       Browser        Region   TrafficType  \n",
       "count      10375.000000  10375.000000  10375.000000  10375.000000  \n",
       "mean           2.130120      2.339277      3.159036      4.081253  \n",
       "std            0.908284      1.681611      2.400951      4.032551  \n",
       "min            1.000000      1.000000      1.000000      1.000000  \n",
       "25%            2.000000      2.000000      1.000000      2.000000  \n",
       "50%            2.000000      2.000000      3.000000      2.000000  \n",
       "75%            3.000000      2.000000      4.000000      4.000000  \n",
       "max            8.000000     13.000000      9.000000     20.000000  "
      ]
     },
     "execution_count": 18,
     "metadata": {},
     "output_type": "execute_result"
    }
   ],
   "source": [
    "df2.describe()"
   ]
  },
  {
   "cell_type": "code",
   "execution_count": 19,
   "metadata": {},
   "outputs": [
    {
     "data": {
      "text/plain": [
       "False    10375\n",
       "True      1908\n",
       "Name: Revenue, dtype: int64"
      ]
     },
     "execution_count": 19,
     "metadata": {},
     "output_type": "execute_result"
    }
   ],
   "source": [
    "df['Revenue'].value_counts()"
   ]
  },
  {
   "cell_type": "code",
   "execution_count": 20,
   "metadata": {},
   "outputs": [
    {
     "data": {
      "text/plain": [
       "(0.8446633558576895, 0.15533664414231052)"
      ]
     },
     "execution_count": 20,
     "metadata": {},
     "output_type": "execute_result"
    }
   ],
   "source": [
    "df['Revenue'].value_counts()[0]/df['Revenue'].value_counts().sum(), df['Revenue'].value_counts()[1]/df['Revenue'].value_counts().sum()"
   ]
  },
  {
   "cell_type": "code",
   "execution_count": 22,
   "metadata": {},
   "outputs": [
    {
     "data": {
      "image/png": "[encoded data removed]",
      "text/plain": [
       "<Figure size 864x288 with 1 Axes>"
      ]
     },
     "metadata": {
      "needs_background": "light"
     },
     "output_type": "display_data"
    }
   ],
   "source": [
    "plt.figure(figsize=(12,4))\n",
    "df['Revenue'].apply(lambda x: 1 if (x==True) else 0 ).hist(bins=3, alpha=0.3, color='blue', label='RAVENUE')\n",
    "plt.grid()\n",
    "plt.xticks([0,1],('no-transaction', 'transaction'))\n",
    "plt.autoscale(enable=True)\n",
    "plt.legend()\n",
    "plt.title(' ONLY 15.5% SHOPPED ')\n",
    "plt.show()"
   ]
  },
  {
   "cell_type": "markdown",
   "metadata": {},
   "source": [
    "#### REVENUE VS Weekend "
   ]
  },
  {
   "cell_type": "code",
   "execution_count": 23,
   "metadata": {},
   "outputs": [
    {
     "data": {
      "text/plain": [
       "False    1409\n",
       "True      499\n",
       "Name: Weekend, dtype: int64"
      ]
     },
     "execution_count": 23,
     "metadata": {},
     "output_type": "execute_result"
    }
   ],
   "source": [
    "df1['Weekend'].value_counts()"
   ]
  },
  {
   "cell_type": "code",
   "execution_count": 24,
   "metadata": {},
   "outputs": [
    {
     "data": {
      "text/plain": [
       "(0.7384696016771488, 0.26153039832285113)"
      ]
     },
     "execution_count": 24,
     "metadata": {},
     "output_type": "execute_result"
    }
   ],
   "source": [
    "df1['Weekend'].value_counts()[0]/df1['Weekend'].value_counts().sum(), df1['Weekend'].value_counts()[1]/df1['Weekend'].value_counts().sum()"
   ]
  },
  {
   "cell_type": "code",
   "execution_count": 25,
   "metadata": {},
   "outputs": [
    {
     "data": {
      "image/png": "[encoded data removed]",
      "text/plain": [
       "<Figure size 864x288 with 1 Axes>"
      ]
     },
     "metadata": {
      "needs_background": "light"
     },
     "output_type": "display_data"
    }
   ],
   "source": [
    "plt.figure(figsize=(12,4))\n",
    "df1['Weekend'].apply(lambda x: 1 if (x==True) else 0).hist(bins=3, alpha=0.7, color='orange', label='DAYS')\n",
    "plt.grid()\n",
    "plt.xticks([0,1],('WEEKDAYS', 'WEEKENDS'))\n",
    "plt.autoscale(enable=True)\n",
    "plt.legend()\n",
    "plt.title('WEEKDAYS VS WEEKEND SHOPPING')\n",
    "plt.show()"
   ]
  },
  {
   "cell_type": "markdown",
   "metadata": {},
   "source": [
    "#### REVENUE VS MONTH"
   ]
  },
  {
   "cell_type": "code",
   "execution_count": 29,
   "metadata": {},
   "outputs": [
    {
     "data": {
      "image/png": "[encoded data removed]",
      "text/plain": [
       "<Figure size 1008x288 with 1 Axes>"
      ]
     },
     "metadata": {
      "needs_background": "light"
     },
     "output_type": "display_data"
    }
   ],
   "source": [
    "y0 = df['Month'].value_counts().values/np.max(df['Month'].value_counts().values)\n",
    "y1 = df1['Month'].value_counts().values/np.max(df['Month'].value_counts().values)\n",
    "y2 = df2['Month'].value_counts().values/np.max(df['Month'].value_counts().values)\n",
    "\n",
    "plt.figure(figsize=(14,4))\n",
    "\n",
    "plt.bar(df['Month'].value_counts().index,y0,alpha=0.2, color='yellow', label='online-transaction')\n",
    "plt.bar(df['Month'].value_counts().index,y1,alpha=1.0, color='blue', label='transaction_' )\n",
    "plt.bar(df['Month'].value_counts().index,y2,alpha=0.6, color='magenta', label='no-transaction_' )\n",
    "\n",
    "plt.legend()\n",
    "plt.title('REV vs MONTH')\n",
    "plt.ylabel('density')\n",
    "plt.autoscale(tight=True, enable=True)\n",
    "plt.show()"
   ]
  },
  {
   "cell_type": "code",
   "execution_count": 30,
   "metadata": {},
   "outputs": [],
   "source": [
    "df_w1 = df_w[ df_w['Revenue']==1 ]"
   ]
  },
  {
   "cell_type": "code",
   "execution_count": 31,
   "metadata": {},
   "outputs": [
    {
     "data": {
      "image/png": "[encoded data removed]",
      "text/plain": [
       "<Figure size 1008x288 with 1 Axes>"
      ]
     },
     "metadata": {
      "needs_background": "light"
     },
     "output_type": "display_data"
    }
   ],
   "source": [
    "plt.figure(figsize=(14,4))\n",
    "df_w1['PageValues'].hist(bins=10, alpha=0.8, color='blue', rwidth=0.7, label='PAGE VALUE')\n",
    "plt.grid()\n",
    "plt.autoscale(tight=True, enable=True)\n",
    "plt.title('PAGE VALUE HIST REV-TRUE')\n",
    "plt.ylabel('DENSITY')\n",
    "plt.show()"
   ]
  },
  {
   "cell_type": "markdown",
   "metadata": {},
   "source": [
    "### PIE CHARTS VIS"
   ]
  },
  {
   "cell_type": "code",
   "execution_count": 32,
   "metadata": {},
   "outputs": [
    {
     "data": {
      "text/plain": [
       "Returning_Visitor    10504\n",
       "New_Visitor           1694\n",
       "Other                   85\n",
       "Name: VisitorType, dtype: int64"
      ]
     },
     "execution_count": 32,
     "metadata": {},
     "output_type": "execute_result"
    }
   ],
   "source": [
    "df['VisitorType'].value_counts()"
   ]
  },
  {
   "cell_type": "code",
   "execution_count": 33,
   "metadata": {},
   "outputs": [
    {
     "data": {
      "text/plain": [
       "[0.7704402515723271, 0.22117400419287211, 0.22117400419287211]"
      ]
     },
     "execution_count": 33,
     "metadata": {},
     "output_type": "execute_result"
    }
   ],
   "source": [
    "pie_val = [ df1['VisitorType'].value_counts()[0]/df1['VisitorType'].value_counts().sum(), df1['VisitorType'].value_counts()[1]/df1['VisitorType'].value_counts().sum(), df1['VisitorType'].value_counts()[1]/df1['VisitorType'].value_counts().sum() ]\n",
    "pie_val"
   ]
  },
  {
   "cell_type": "code",
   "execution_count": 34,
   "metadata": {},
   "outputs": [
    {
     "data": {
      "image/png": "[encoded data removed]",
      "text/plain": [
       "<Figure size 576x576 with 1 Axes>"
      ]
     },
     "metadata": {},
     "output_type": "display_data"
    }
   ],
   "source": [
    "plt.figure(figsize=(8,8))\n",
    "plt.pie(pie_val, colors = ['cyan', 'green', 'blue'], explode=[0, 0, 0.04], labels = ['Returning_Visitor', 'New_Visitor', 'Other']  )\n",
    "plt.legend()\n",
    "plt.title('VISITOR TYPE')\n",
    "plt.show()"
   ]
  },
  {
   "cell_type": "code",
   "execution_count": 35,
   "metadata": {},
   "outputs": [
    {
     "data": {
      "text/plain": [
       "2    1155\n",
       "1     379\n",
       "3     268\n",
       "4      85\n",
       "8      17\n",
       "6       2\n",
       "5       1\n",
       "7       1\n",
       "Name: OperatingSystems, dtype: int64"
      ]
     },
     "execution_count": 35,
     "metadata": {},
     "output_type": "execute_result"
    }
   ],
   "source": [
    "df1['OperatingSystems'].value_counts()"
   ]
  },
  {
   "cell_type": "code",
   "execution_count": 36,
   "metadata": {},
   "outputs": [
    {
     "data": {
      "text/plain": [
       "[1155, 379, 268, 85, 17, 2, 1, 1]"
      ]
     },
     "execution_count": 36,
     "metadata": {},
     "output_type": "execute_result"
    }
   ],
   "source": [
    "opsys = []\n",
    "for val in df1['OperatingSystems'].value_counts():\n",
    "    opsys.append(val)\n",
    " \n",
    "\n",
    "opsys"
   ]
  },
  {
   "cell_type": "code",
   "execution_count": 37,
   "metadata": {},
   "outputs": [
    {
     "data": {
      "image/png": "[encoded data removed]",
      "text/plain": [
       "<Figure size 720x864 with 1 Axes>"
      ]
     },
     "metadata": {},
     "output_type": "display_data"
    }
   ],
   "source": [
    "plt.figure(figsize=(10,12))\n",
    "lab_list = ['2', '1', '3', '4', '8', '6', '7', '6'] \n",
    "exp_list = [0, 0.02, 0.04, 0.06, 0.08, 0.10, 0.12, 0.14]\n",
    "plt.pie(opsys, labels = lab_list, explode = exp_list )\n",
    "plt.legend()\n",
    "plt.title('OPERATING SYSTEM')\n",
    "plt.show()"
   ]
  },
  {
   "cell_type": "code",
   "execution_count": 38,
   "metadata": {},
   "outputs": [
    {
     "data": {
      "text/plain": [
       "0.0    1831\n",
       "0.6      29\n",
       "0.2      14\n",
       "0.4      13\n",
       "0.8      11\n",
       "1.0      10\n",
       "Name: SpecialDay, dtype: int64"
      ]
     },
     "execution_count": 38,
     "metadata": {},
     "output_type": "execute_result"
    }
   ],
   "source": [
    "df1['SpecialDay'].value_counts()"
   ]
  },
  {
   "cell_type": "code",
   "execution_count": 39,
   "metadata": {},
   "outputs": [],
   "source": [
    "SP_DAY = []\n",
    "category = []\n",
    "idx = 0\n",
    "norm = df1['SpecialDay'].value_counts().sum()\n",
    "for val in df1['SpecialDay'].value_counts():\n",
    "    SP_DAY.append(val/norm)\n",
    "    category.append(df['SpecialDay'].value_counts().index[idx])\n",
    "    idx += 1 \n"
   ]
  },
  {
   "cell_type": "code",
   "execution_count": 40,
   "metadata": {},
   "outputs": [
    {
     "data": {
      "image/png": "[encoded data removed]",
      "text/plain": [
       "<Figure size 576x720 with 1 Axes>"
      ]
     },
     "metadata": {},
     "output_type": "display_data"
    }
   ],
   "source": [
    "plt.figure(figsize=(8,10))\n",
    "plt.pie(SP_DAY, labels=category, explode=[0, 0.02, 0.04, 0.06, 0.08, 0.10] )\n",
    "plt.autoscale(enable=True, tight=True)\n",
    "plt.title('SPECIAL DAY')\n",
    "plt.grid()\n",
    "plt.show()"
   ]
  },
  {
   "cell_type": "code",
   "execution_count": 41,
   "metadata": {},
   "outputs": [
    {
     "data": {
      "text/plain": [
       "1    771\n",
       "3    349\n",
       "2    188\n",
       "4    175\n",
       "7    119\n",
       "6    112\n",
       "9     86\n",
       "8     56\n",
       "5     52\n",
       "Name: Region, dtype: int64"
      ]
     },
     "execution_count": 41,
     "metadata": {},
     "output_type": "execute_result"
    }
   ],
   "source": [
    "df1['Region'].value_counts()"
   ]
  },
  {
   "cell_type": "code",
   "execution_count": 42,
   "metadata": {},
   "outputs": [],
   "source": [
    "re_gion = []\n",
    "categoryr = []\n",
    "idx = 0\n",
    "norm = df1['SpecialDay'].value_counts().sum()\n",
    "for val in df1['SpecialDay'].value_counts():\n",
    "    re_gion.append(val/norm)\n",
    "    categoryr.append(df1['SpecialDay'].value_counts().index[idx])\n",
    "    idx += 1 "
   ]
  },
  {
   "cell_type": "code",
   "execution_count": 43,
   "metadata": {},
   "outputs": [
    {
     "data": {
      "image/png": "[encoded data removed]",
      "text/plain": [
       "<Figure size 576x720 with 1 Axes>"
      ]
     },
     "metadata": {},
     "output_type": "display_data"
    }
   ],
   "source": [
    "plt.figure(figsize=(8,10))\n",
    "plt.pie(re_gion, labels=categoryr, explode=[0, 0.02, 0.04, 0.06, 0.08, 0.10], colors=['cyan','yellow','green','blue','violet','magenta'] )\n",
    "plt.autoscale(enable=True, tight=True)\n",
    "plt.title('REGION')\n",
    "plt.grid()\n",
    "plt.show()"
   ]
  },
  {
   "cell_type": "markdown",
   "metadata": {},
   "source": [
    "### FEATURE ANALYSIS"
   ]
  },
  {
   "cell_type": "markdown",
   "metadata": {},
   "source": [
    "#### VISITOR-TYPE"
   ]
  },
  {
   "cell_type": "code",
   "execution_count": 44,
   "metadata": {},
   "outputs": [
    {
     "data": {
      "text/plain": [
       "Returning_Visitor    1470\n",
       "New_Visitor           422\n",
       "Other                  16\n",
       "Name: VisitorType, dtype: int64"
      ]
     },
     "execution_count": 44,
     "metadata": {},
     "output_type": "execute_result"
    }
   ],
   "source": [
    "df1['VisitorType'].value_counts()"
   ]
  },
  {
   "cell_type": "code",
   "execution_count": 45,
   "metadata": {},
   "outputs": [
    {
     "data": {
      "image/png": "[encoded data removed]",
      "text/plain": [
       "<Figure size 1008x432 with 1 Axes>"
      ]
     },
     "metadata": {
      "needs_background": "light"
     },
     "output_type": "display_data"
    }
   ],
   "source": [
    "df1_11 = df1[ df1['VisitorType']=='Returning_Visitor' ]\n",
    "x1 = np.array(df1_11['Month'].value_counts().index)\n",
    "y1 = np.array(df1_11['Month'].value_counts().values)/np.sum(np.array(df1['Month'].value_counts().values))\n",
    "\n",
    "df1_2 = df1[ df1['VisitorType']=='New_Visitor' ]\n",
    "x2 = np.array(df1_2['Month'].value_counts().index)\n",
    "y2 = np.array(df1_2['Month'].value_counts().values)/np.sum(np.array(df1['Month'].value_counts().values))\n",
    "\n",
    "plt.figure(figsize=(14,6))\n",
    "plt.scatter(x1,y1,label='RETURNING_VISITOR',s=2**9, c='blue', marker='o',linewidths=2, alpha=0.2, facecolor=None)\n",
    "plt.scatter(x2,y2,label='NEW_VISITOR', s=2**7, c='red', marker='s',linewidths=2,alpha=0.6,facecolor=None )\n",
    "\n",
    "plt.legend()\n",
    "plt.title('REV TRUE, OTHER GROUP PEAKS IN DEC')\n",
    "plt.show()\n"
   ]
  },
  {
   "cell_type": "code",
   "execution_count": null,
   "metadata": {},
   "outputs": [],
   "source": []
  },
  {
   "cell_type": "markdown",
   "metadata": {},
   "source": [
    "### WEEKDAYS vs WEEKEND"
   ]
  },
  {
   "cell_type": "code",
   "execution_count": 46,
   "metadata": {},
   "outputs": [
    {
     "data": {
      "text/plain": [
       "False    1409\n",
       "True      499\n",
       "Name: Weekend, dtype: int64"
      ]
     },
     "execution_count": 46,
     "metadata": {},
     "output_type": "execute_result"
    }
   ],
   "source": [
    "df1['Weekend'].value_counts()"
   ]
  },
  {
   "cell_type": "code",
   "execution_count": 47,
   "metadata": {},
   "outputs": [
    {
     "data": {
      "image/png": "[encoded data removed]",
      "text/plain": [
       "<Figure size 1008x432 with 1 Axes>"
      ]
     },
     "metadata": {
      "needs_background": "light"
     },
     "output_type": "display_data"
    }
   ],
   "source": [
    "df1_1 = df1[ df1['Weekend']==False ]\n",
    "xx1 = np.array(df1_1['Month'].value_counts().index)\n",
    "yy1 = np.array(df1_1['Month'].value_counts().values)/np.max(np.array(df1['Month'].value_counts().values))\n",
    "\n",
    "\n",
    "df1_1 = df1[ df1['Weekend']==True ]\n",
    "xx2 = np.array(df1_1['Month'].value_counts().index)\n",
    "yy2 = np.array(df1_1['Month'].value_counts().values)/np.max(np.array(df1['Month'].value_counts().values))\n",
    "\n",
    "plt.figure(figsize=(14,6))\n",
    "plt.plot(xx1,yy1,label='WEEKDAYS',color='green',marker='o',markersize=20, alpha=0.4, linestyle='none')\n",
    "plt.plot(xx2,yy2,label='WEEK-END',color='blue',marker='o',markersize=15,linestyle='none',alpha=0.4  )\n",
    "\n",
    "plt.title('WEEK-END, WEEKDAYS REV TRUE')\n",
    "plt.legend()\n",
    "plt.show()"
   ]
  },
  {
   "cell_type": "markdown",
   "metadata": {},
   "source": [
    "##### We found here the week-end REV has a surge in the month of MARCH"
   ]
  },
  {
   "cell_type": "markdown",
   "metadata": {},
   "source": [
    "### STATISTICAL ANALYSIS"
   ]
  },
  {
   "cell_type": "code",
   "execution_count": 48,
   "metadata": {},
   "outputs": [
    {
     "data": {
      "text/plain": [
       "(18,\n",
       " Index(['Administrative', 'Administrative_Duration', 'Informational',\n",
       "        'Informational_Duration', 'ProductRelated', 'ProductRelated_Duration'],\n",
       "       dtype='object'),\n",
       " 'PageValues',\n",
       " 'Revenue')"
      ]
     },
     "execution_count": 48,
     "metadata": {},
     "output_type": "execute_result"
    }
   ],
   "source": [
    "len(df.columns), df.columns[0:6], df.columns[8], df.columns[17]"
   ]
  },
  {
   "cell_type": "code",
   "execution_count": 49,
   "metadata": {},
   "outputs": [
    {
     "data": {
      "text/html": [
       "<div>\n",
       "<style scoped>\n",
       "    .dataframe tbody tr th:only-of-type {\n",
       "        vertical-align: middle;\n",
       "    }\n",
       "\n",
       "    .dataframe tbody tr th {\n",
       "        vertical-align: top;\n",
       "    }\n",
       "\n",
       "    .dataframe thead th {\n",
       "        text-align: right;\n",
       "    }\n",
       "</style>\n",
       "<table border=\"1\" class=\"dataframe\">\n",
       "  <thead>\n",
       "    <tr style=\"text-align: right;\">\n",
       "      <th></th>\n",
       "      <th>Administrative</th>\n",
       "      <th>Administrative_Duration</th>\n",
       "      <th>Informational</th>\n",
       "      <th>Informational_Duration</th>\n",
       "      <th>ProductRelated</th>\n",
       "      <th>ProductRelated_Duration</th>\n",
       "      <th>BounceRates</th>\n",
       "      <th>ExitRates</th>\n",
       "      <th>PageValues</th>\n",
       "      <th>SpecialDay</th>\n",
       "      <th>OperatingSystems</th>\n",
       "      <th>Browser</th>\n",
       "      <th>Region</th>\n",
       "      <th>TrafficType</th>\n",
       "    </tr>\n",
       "  </thead>\n",
       "  <tbody>\n",
       "    <tr>\n",
       "      <th>count</th>\n",
       "      <td>1908.000000</td>\n",
       "      <td>1908.000000</td>\n",
       "      <td>1908.000000</td>\n",
       "      <td>1908.000000</td>\n",
       "      <td>1908.000000</td>\n",
       "      <td>1908.000000</td>\n",
       "      <td>1908.000000</td>\n",
       "      <td>1908.000000</td>\n",
       "      <td>1908.000000</td>\n",
       "      <td>1908.000000</td>\n",
       "      <td>1908.000000</td>\n",
       "      <td>1908.000000</td>\n",
       "      <td>1908.000000</td>\n",
       "      <td>1908.000000</td>\n",
       "    </tr>\n",
       "    <tr>\n",
       "      <th>mean</th>\n",
       "      <td>3.393606</td>\n",
       "      <td>119.483244</td>\n",
       "      <td>0.786164</td>\n",
       "      <td>57.611427</td>\n",
       "      <td>48.210168</td>\n",
       "      <td>1876.209615</td>\n",
       "      <td>0.005117</td>\n",
       "      <td>0.019555</td>\n",
       "      <td>27.264518</td>\n",
       "      <td>0.023166</td>\n",
       "      <td>2.092767</td>\n",
       "      <td>2.453354</td>\n",
       "      <td>3.082285</td>\n",
       "      <td>4.021488</td>\n",
       "    </tr>\n",
       "    <tr>\n",
       "      <th>std</th>\n",
       "      <td>3.730527</td>\n",
       "      <td>201.114732</td>\n",
       "      <td>1.521176</td>\n",
       "      <td>171.619131</td>\n",
       "      <td>58.267365</td>\n",
       "      <td>2312.214392</td>\n",
       "      <td>0.012185</td>\n",
       "      <td>0.016463</td>\n",
       "      <td>35.191954</td>\n",
       "      <td>0.123521</td>\n",
       "      <td>0.929779</td>\n",
       "      <td>1.897042</td>\n",
       "      <td>2.407173</td>\n",
       "      <td>3.987140</td>\n",
       "    </tr>\n",
       "    <tr>\n",
       "      <th>min</th>\n",
       "      <td>0.000000</td>\n",
       "      <td>0.000000</td>\n",
       "      <td>0.000000</td>\n",
       "      <td>0.000000</td>\n",
       "      <td>0.000000</td>\n",
       "      <td>0.000000</td>\n",
       "      <td>0.000000</td>\n",
       "      <td>0.000000</td>\n",
       "      <td>0.000000</td>\n",
       "      <td>0.000000</td>\n",
       "      <td>1.000000</td>\n",
       "      <td>1.000000</td>\n",
       "      <td>1.000000</td>\n",
       "      <td>1.000000</td>\n",
       "    </tr>\n",
       "    <tr>\n",
       "      <th>25%</th>\n",
       "      <td>0.000000</td>\n",
       "      <td>0.000000</td>\n",
       "      <td>0.000000</td>\n",
       "      <td>0.000000</td>\n",
       "      <td>15.000000</td>\n",
       "      <td>541.906250</td>\n",
       "      <td>0.000000</td>\n",
       "      <td>0.009521</td>\n",
       "      <td>3.641144</td>\n",
       "      <td>0.000000</td>\n",
       "      <td>2.000000</td>\n",
       "      <td>2.000000</td>\n",
       "      <td>1.000000</td>\n",
       "      <td>2.000000</td>\n",
       "    </tr>\n",
       "    <tr>\n",
       "      <th>50%</th>\n",
       "      <td>2.000000</td>\n",
       "      <td>52.366667</td>\n",
       "      <td>0.000000</td>\n",
       "      <td>0.000000</td>\n",
       "      <td>29.000000</td>\n",
       "      <td>1109.906250</td>\n",
       "      <td>0.000000</td>\n",
       "      <td>0.016000</td>\n",
       "      <td>16.758134</td>\n",
       "      <td>0.000000</td>\n",
       "      <td>2.000000</td>\n",
       "      <td>2.000000</td>\n",
       "      <td>2.000000</td>\n",
       "      <td>2.000000</td>\n",
       "    </tr>\n",
       "    <tr>\n",
       "      <th>75%</th>\n",
       "      <td>5.000000</td>\n",
       "      <td>151.083333</td>\n",
       "      <td>1.000000</td>\n",
       "      <td>19.000000</td>\n",
       "      <td>57.000000</td>\n",
       "      <td>2266.011310</td>\n",
       "      <td>0.006452</td>\n",
       "      <td>0.025000</td>\n",
       "      <td>38.897742</td>\n",
       "      <td>0.000000</td>\n",
       "      <td>2.000000</td>\n",
       "      <td>2.000000</td>\n",
       "      <td>4.000000</td>\n",
       "      <td>4.000000</td>\n",
       "    </tr>\n",
       "    <tr>\n",
       "      <th>max</th>\n",
       "      <td>26.000000</td>\n",
       "      <td>2086.750000</td>\n",
       "      <td>12.000000</td>\n",
       "      <td>1767.666667</td>\n",
       "      <td>534.000000</td>\n",
       "      <td>27009.859430</td>\n",
       "      <td>0.200000</td>\n",
       "      <td>0.200000</td>\n",
       "      <td>361.763742</td>\n",
       "      <td>1.000000</td>\n",
       "      <td>8.000000</td>\n",
       "      <td>13.000000</td>\n",
       "      <td>9.000000</td>\n",
       "      <td>20.000000</td>\n",
       "    </tr>\n",
       "  </tbody>\n",
       "</table>\n",
       "</div>"
      ],
      "text/plain": [
       "       Administrative  Administrative_Duration  Informational  \\\n",
       "count     1908.000000              1908.000000    1908.000000   \n",
       "mean         3.393606               119.483244       0.786164   \n",
       "std          3.730527               201.114732       1.521176   \n",
       "min          0.000000                 0.000000       0.000000   \n",
       "25%          0.000000                 0.000000       0.000000   \n",
       "50%          2.000000                52.366667       0.000000   \n",
       "75%          5.000000               151.083333       1.000000   \n",
       "max         26.000000              2086.750000      12.000000   \n",
       "\n",
       "       Informational_Duration  ProductRelated  ProductRelated_Duration  \\\n",
       "count             1908.000000     1908.000000              1908.000000   \n",
       "mean                57.611427       48.210168              1876.209615   \n",
       "std                171.619131       58.267365              2312.214392   \n",
       "min                  0.000000        0.000000                 0.000000   \n",
       "25%                  0.000000       15.000000               541.906250   \n",
       "50%                  0.000000       29.000000              1109.906250   \n",
       "75%                 19.000000       57.000000              2266.011310   \n",
       "max               1767.666667      534.000000             27009.859430   \n",
       "\n",
       "       BounceRates    ExitRates   PageValues   SpecialDay  OperatingSystems  \\\n",
       "count  1908.000000  1908.000000  1908.000000  1908.000000       1908.000000   \n",
       "mean      0.005117     0.019555    27.264518     0.023166          2.092767   \n",
       "std       0.012185     0.016463    35.191954     0.123521          0.929779   \n",
       "min       0.000000     0.000000     0.000000     0.000000          1.000000   \n",
       "25%       0.000000     0.009521     3.641144     0.000000          2.000000   \n",
       "50%       0.000000     0.016000    16.758134     0.000000          2.000000   \n",
       "75%       0.006452     0.025000    38.897742     0.000000          2.000000   \n",
       "max       0.200000     0.200000   361.763742     1.000000          8.000000   \n",
       "\n",
       "           Browser       Region  TrafficType  \n",
       "count  1908.000000  1908.000000  1908.000000  \n",
       "mean      2.453354     3.082285     4.021488  \n",
       "std       1.897042     2.407173     3.987140  \n",
       "min       1.000000     1.000000     1.000000  \n",
       "25%       2.000000     1.000000     2.000000  \n",
       "50%       2.000000     2.000000     2.000000  \n",
       "75%       2.000000     4.000000     4.000000  \n",
       "max      13.000000     9.000000    20.000000  "
      ]
     },
     "execution_count": 49,
     "metadata": {},
     "output_type": "execute_result"
    }
   ],
   "source": [
    "df1.describe()"
   ]
  },
  {
   "cell_type": "code",
   "execution_count": 50,
   "metadata": {},
   "outputs": [],
   "source": [
    "cols = [ 'Administrative_Duration', 'Informational_Duration', 'ProductRelated_Duration']"
   ]
  },
  {
   "cell_type": "markdown",
   "metadata": {},
   "source": [
    "### INFERENTIAL COMPARISON BETWEEN TWO GROUPS"
   ]
  },
  {
   "cell_type": "raw",
   "metadata": {},
   "source": [
    "o Revenue == True\n",
    "o Revenue == False"
   ]
  },
  {
   "cell_type": "code",
   "execution_count": 51,
   "metadata": {},
   "outputs": [],
   "source": [
    "import scipy \n",
    "from scipy.stats import norm\n",
    "from scipy.stats import ttest_ind"
   ]
  },
  {
   "cell_type": "code",
   "execution_count": 52,
   "metadata": {},
   "outputs": [
    {
     "data": {
      "image/png": "[encoded data removed]",
      "text/plain": [
       "<Figure size 1008x432 with 1 Axes>"
      ]
     },
     "metadata": {
      "needs_background": "light"
     },
     "output_type": "display_data"
    }
   ],
   "source": [
    "idx = 0\n",
    "plt.figure(figsize=(14,6))\n",
    "bolls = [True, False]\n",
    "colr_data = ['red', 'blue']\n",
    "for col in bolls:\n",
    "    df1_1 = df[df['Revenue'] == col]\n",
    "    df1_1 = df1_1[ df1_1['ProductRelated_Duration'] >10 ]\n",
    "    datalog = np.sort(df1_1['ProductRelated_Duration'].apply(np.log10))\n",
    "    datalog_pdf=scipy.stats.norm.pdf(datalog, loc=np.mean(datalog), scale=np.std(datalog) ) \n",
    "    datalog_cdf = scipy.stats.norm.cdf(datalog, loc=np.mean(datalog), scale=np.std(datalog) )\n",
    "    plt.plot(datalog, datalog_pdf, color=colr_data[idx], label=col)\n",
    "    plt.axvline(np.mean(datalog), linestyle='--', color=colr_data[idx], label='MEAN')\n",
    "    plt.axvline(np.mean(datalog)+2*np.std(datalog), linestyle='--', color=colr_data[idx], label='2*STD')\n",
    "    plt.axvline(np.percentile(datalog, [95]), linestyle='-', color=colr_data[idx], label='95% CONF INT', linewidth=3.5)\n",
    "    plt.legend()\n",
    "    plt.ylabel('PDF')\n",
    "    plt.xlabel('DURATION (log-scale)')\n",
    "    plt.title('95% CONF INT WRT MEAN FOR REVENUE GROUPS')\n",
    "    plt.autoscale(tight=True, enable=True)\n",
    "    idx += 1"
   ]
  },
  {
   "cell_type": "markdown",
   "metadata": {},
   "source": [
    "#### Clients ProductRelated_Duration (log scale) vs the probability distribution function (PDF) shows that clients ProductRelated_Duration with respect to the mean is close to 2 time the STD, can be predicted with 95% confidence.\n"
   ]
  },
  {
   "cell_type": "markdown",
   "metadata": {},
   "source": [
    "#### HYPOTHESIS"
   ]
  },
  {
   "cell_type": "raw",
   "metadata": {},
   "source": [
    "Hypothesis: Now we make a hypothesis in terms of rev True and False, i.e.; those two groups of customer are not identical where ProductRelated_Duration is the distribution."
   ]
  },
  {
   "cell_type": "code",
   "execution_count": 55,
   "metadata": {},
   "outputs": [
    {
     "data": {
      "text/plain": [
       "Ttest_indResult(statistic=12.952064466401078, pvalue=3.959749814353018e-37)"
      ]
     },
     "execution_count": 55,
     "metadata": {},
     "output_type": "execute_result"
    }
   ],
   "source": [
    "df_RT = df[df['Revenue'] == True]\n",
    "df_RF = df[df['Revenue'] == False]\n",
    "\n",
    "df1 = df_RT[ df_RT['ProductRelated_Duration'] >10 ]\n",
    "df2 = df_RF[ df_RF['ProductRelated_Duration'] >10 ]\n",
    "\n",
    "ttest_ind(df1['ProductRelated_Duration'], df2['ProductRelated_Duration'], equal_var=False)"
   ]
  },
  {
   "cell_type": "markdown",
   "metadata": {},
   "source": [
    "Since the p value of ttest is less than 0.05, so the hypothesis is correct."
   ]
  },
  {
   "cell_type": "code",
   "execution_count": 56,
   "metadata": {},
   "outputs": [
    {
     "data": {
      "text/plain": [
       "[]"
      ]
     },
     "execution_count": 56,
     "metadata": {},
     "output_type": "execute_result"
    },
    {
     "data": {
      "image/png": "[encoded data removed]",
      "text/plain": [
       "<Figure size 864x432 with 1 Axes>"
      ]
     },
     "metadata": {
      "needs_background": "light"
     },
     "output_type": "display_data"
    }
   ],
   "source": [
    "plt.figure(figsize=(12,6))\n",
    "df1['ProductRelated_Duration'].apply(np.log10).hist(bins=18, alpha=0.6, color='cyan', label='REV TRUE')\n",
    "df2['ProductRelated_Duration'].apply(np.log10).hist(bins=18, alpha=0.2, color='blue', label='REV FALSE')\n",
    "plt.grid()\n",
    "plt.autoscale(enable=True, tight=True)\n",
    "plt.legend()\n",
    "plt.title('ProductRelated_Duration hist')\n",
    "plt.plot()"
   ]
  },
  {
   "cell_type": "markdown",
   "metadata": {},
   "source": [
    "## ML PREDICTIONS"
   ]
  },
  {
   "cell_type": "code",
   "execution_count": 57,
   "metadata": {},
   "outputs": [
    {
     "data": {
      "text/plain": [
       "0    10375\n",
       "1     1908\n",
       "Name: Revenue, dtype: int64"
      ]
     },
     "execution_count": 57,
     "metadata": {},
     "output_type": "execute_result"
    }
   ],
   "source": [
    "df['Revenue'].replace(to_replace=[True,False], value=[1,0],inplace=True)\n",
    "df['Revenue'].value_counts()"
   ]
  },
  {
   "cell_type": "code",
   "execution_count": 58,
   "metadata": {},
   "outputs": [
    {
     "data": {
      "text/plain": [
       "0    9421\n",
       "1    2862\n",
       "Name: Weekend, dtype: int64"
      ]
     },
     "execution_count": 58,
     "metadata": {},
     "output_type": "execute_result"
    }
   ],
   "source": [
    "df['Weekend'].replace(to_replace=[True,False], value=[1,0], inplace=True)\n",
    "df['Weekend'].value_counts()"
   ]
  },
  {
   "cell_type": "code",
   "execution_count": 59,
   "metadata": {},
   "outputs": [
    {
     "data": {
      "text/plain": [
       "0    10504\n",
       "1     1694\n",
       "2       85\n",
       "Name: VisitorType, dtype: int64"
      ]
     },
     "execution_count": 59,
     "metadata": {},
     "output_type": "execute_result"
    }
   ],
   "source": [
    "df['VisitorType'].replace(to_replace=['Returning_Visitor', 'New_Visitor', 'Other'], value=[0,1,2], inplace=True)\n",
    "df['VisitorType'].value_counts()"
   ]
  },
  {
   "cell_type": "code",
   "execution_count": 218,
   "metadata": {},
   "outputs": [],
   "source": [
    "df['Month'].replace(to_replace=['May', 'Nov', 'Mar', 'Dec', 'Oct', 'Sep', 'Aug', 'Jul', 'June', 'Feb'], value=[ 1,  2,  3,  4,  5,  6,  7,  8,  9, 10], inplace=True)\n"
   ]
  },
  {
   "cell_type": "code",
   "execution_count": 219,
   "metadata": {},
   "outputs": [
    {
     "data": {
      "text/plain": [
       "1     3357\n",
       "2     2995\n",
       "3     1884\n",
       "4     1727\n",
       "5      549\n",
       "6      448\n",
       "7      433\n",
       "8      431\n",
       "9      288\n",
       "10     171\n",
       "Name: Month, dtype: int64"
      ]
     },
     "execution_count": 219,
     "metadata": {},
     "output_type": "execute_result"
    }
   ],
   "source": [
    "df['Month'].value_counts()"
   ]
  },
  {
   "cell_type": "code",
   "execution_count": 220,
   "metadata": {},
   "outputs": [
    {
     "data": {
      "text/html": [
       "<div>\n",
       "<style scoped>\n",
       "    .dataframe tbody tr th:only-of-type {\n",
       "        vertical-align: middle;\n",
       "    }\n",
       "\n",
       "    .dataframe tbody tr th {\n",
       "        vertical-align: top;\n",
       "    }\n",
       "\n",
       "    .dataframe thead th {\n",
       "        text-align: right;\n",
       "    }\n",
       "</style>\n",
       "<table border=\"1\" class=\"dataframe\">\n",
       "  <thead>\n",
       "    <tr style=\"text-align: right;\">\n",
       "      <th></th>\n",
       "      <th>Administrative</th>\n",
       "      <th>Administrative_Duration</th>\n",
       "      <th>Informational</th>\n",
       "      <th>Informational_Duration</th>\n",
       "      <th>ProductRelated</th>\n",
       "      <th>ProductRelated_Duration</th>\n",
       "      <th>BounceRates</th>\n",
       "      <th>ExitRates</th>\n",
       "      <th>PageValues</th>\n",
       "      <th>SpecialDay</th>\n",
       "      <th>Month</th>\n",
       "      <th>OperatingSystems</th>\n",
       "      <th>Browser</th>\n",
       "      <th>Region</th>\n",
       "      <th>TrafficType</th>\n",
       "      <th>VisitorType</th>\n",
       "      <th>Weekend</th>\n",
       "      <th>Revenue</th>\n",
       "    </tr>\n",
       "  </thead>\n",
       "  <tbody>\n",
       "    <tr>\n",
       "      <th>0</th>\n",
       "      <td>0.0</td>\n",
       "      <td>0.0</td>\n",
       "      <td>0.0</td>\n",
       "      <td>0.0</td>\n",
       "      <td>1.0</td>\n",
       "      <td>0.000000</td>\n",
       "      <td>0.200000</td>\n",
       "      <td>0.200000</td>\n",
       "      <td>0.0</td>\n",
       "      <td>0.0</td>\n",
       "      <td>10</td>\n",
       "      <td>1</td>\n",
       "      <td>1</td>\n",
       "      <td>1</td>\n",
       "      <td>1</td>\n",
       "      <td>0</td>\n",
       "      <td>0</td>\n",
       "      <td>0</td>\n",
       "    </tr>\n",
       "    <tr>\n",
       "      <th>1</th>\n",
       "      <td>0.0</td>\n",
       "      <td>0.0</td>\n",
       "      <td>0.0</td>\n",
       "      <td>0.0</td>\n",
       "      <td>2.0</td>\n",
       "      <td>64.000000</td>\n",
       "      <td>0.000000</td>\n",
       "      <td>0.100000</td>\n",
       "      <td>0.0</td>\n",
       "      <td>0.0</td>\n",
       "      <td>10</td>\n",
       "      <td>2</td>\n",
       "      <td>2</td>\n",
       "      <td>1</td>\n",
       "      <td>2</td>\n",
       "      <td>0</td>\n",
       "      <td>0</td>\n",
       "      <td>0</td>\n",
       "    </tr>\n",
       "    <tr>\n",
       "      <th>3</th>\n",
       "      <td>0.0</td>\n",
       "      <td>0.0</td>\n",
       "      <td>0.0</td>\n",
       "      <td>0.0</td>\n",
       "      <td>2.0</td>\n",
       "      <td>2.666667</td>\n",
       "      <td>0.050000</td>\n",
       "      <td>0.140000</td>\n",
       "      <td>0.0</td>\n",
       "      <td>0.0</td>\n",
       "      <td>10</td>\n",
       "      <td>3</td>\n",
       "      <td>2</td>\n",
       "      <td>2</td>\n",
       "      <td>4</td>\n",
       "      <td>0</td>\n",
       "      <td>0</td>\n",
       "      <td>0</td>\n",
       "    </tr>\n",
       "    <tr>\n",
       "      <th>4</th>\n",
       "      <td>0.0</td>\n",
       "      <td>0.0</td>\n",
       "      <td>0.0</td>\n",
       "      <td>0.0</td>\n",
       "      <td>10.0</td>\n",
       "      <td>627.500000</td>\n",
       "      <td>0.020000</td>\n",
       "      <td>0.050000</td>\n",
       "      <td>0.0</td>\n",
       "      <td>0.0</td>\n",
       "      <td>10</td>\n",
       "      <td>3</td>\n",
       "      <td>3</td>\n",
       "      <td>1</td>\n",
       "      <td>4</td>\n",
       "      <td>0</td>\n",
       "      <td>1</td>\n",
       "      <td>0</td>\n",
       "    </tr>\n",
       "    <tr>\n",
       "      <th>5</th>\n",
       "      <td>0.0</td>\n",
       "      <td>0.0</td>\n",
       "      <td>0.0</td>\n",
       "      <td>0.0</td>\n",
       "      <td>19.0</td>\n",
       "      <td>154.216667</td>\n",
       "      <td>0.015789</td>\n",
       "      <td>0.024561</td>\n",
       "      <td>0.0</td>\n",
       "      <td>0.0</td>\n",
       "      <td>10</td>\n",
       "      <td>2</td>\n",
       "      <td>2</td>\n",
       "      <td>1</td>\n",
       "      <td>3</td>\n",
       "      <td>0</td>\n",
       "      <td>0</td>\n",
       "      <td>0</td>\n",
       "    </tr>\n",
       "  </tbody>\n",
       "</table>\n",
       "</div>"
      ],
      "text/plain": [
       "   Administrative  Administrative_Duration  Informational  \\\n",
       "0             0.0                      0.0            0.0   \n",
       "1             0.0                      0.0            0.0   \n",
       "3             0.0                      0.0            0.0   \n",
       "4             0.0                      0.0            0.0   \n",
       "5             0.0                      0.0            0.0   \n",
       "\n",
       "   Informational_Duration  ProductRelated  ProductRelated_Duration  \\\n",
       "0                     0.0             1.0                 0.000000   \n",
       "1                     0.0             2.0                64.000000   \n",
       "3                     0.0             2.0                 2.666667   \n",
       "4                     0.0            10.0               627.500000   \n",
       "5                     0.0            19.0               154.216667   \n",
       "\n",
       "   BounceRates  ExitRates  PageValues  SpecialDay  Month  OperatingSystems  \\\n",
       "0     0.200000   0.200000         0.0         0.0     10                 1   \n",
       "1     0.000000   0.100000         0.0         0.0     10                 2   \n",
       "3     0.050000   0.140000         0.0         0.0     10                 3   \n",
       "4     0.020000   0.050000         0.0         0.0     10                 3   \n",
       "5     0.015789   0.024561         0.0         0.0     10                 2   \n",
       "\n",
       "   Browser  Region  TrafficType  VisitorType  Weekend  Revenue  \n",
       "0        1       1            1            0        0        0  \n",
       "1        2       1            2            0        0        0  \n",
       "3        2       2            4            0        0        0  \n",
       "4        3       1            4            0        1        0  \n",
       "5        2       1            3            0        0        0  "
      ]
     },
     "execution_count": 220,
     "metadata": {},
     "output_type": "execute_result"
    }
   ],
   "source": [
    "df.head()"
   ]
  },
  {
   "cell_type": "code",
   "execution_count": 221,
   "metadata": {},
   "outputs": [
    {
     "data": {
      "text/plain": [
       "Index(['Administrative', 'Administrative_Duration', 'Informational',\n",
       "       'Informational_Duration', 'ProductRelated', 'ProductRelated_Duration',\n",
       "       'BounceRates', 'ExitRates', 'PageValues', 'SpecialDay', 'Month',\n",
       "       'OperatingSystems', 'Browser', 'Region', 'TrafficType', 'VisitorType',\n",
       "       'Weekend', 'Revenue'],\n",
       "      dtype='object')"
      ]
     },
     "execution_count": 221,
     "metadata": {},
     "output_type": "execute_result"
    }
   ],
   "source": [
    "df.columns"
   ]
  },
  {
   "cell_type": "code",
   "execution_count": 222,
   "metadata": {},
   "outputs": [],
   "source": [
    "X1 = df[['Administrative','Administrative_Duration','Informational','Informational_Duration','ProductRelated','ProductRelated_Duration',\n",
    "       'BounceRates', 'ExitRates', 'PageValues', 'SpecialDay', 'Month','OperatingSystems', 'Browser', 'Region', 'TrafficType', 'VisitorType',\n",
    "       'Weekend']]"
   ]
  },
  {
   "cell_type": "code",
   "execution_count": 223,
   "metadata": {},
   "outputs": [],
   "source": [
    "from sklearn import preprocessing\n",
    "X= preprocessing.StandardScaler().fit(X1).transform(X1)"
   ]
  },
  {
   "cell_type": "code",
   "execution_count": 224,
   "metadata": {},
   "outputs": [
    {
     "data": {
      "text/plain": [
       "array([[-0.6989074 , -0.45823768, -0.39724702, -0.24540834, -0.69287492,\n",
       "        -0.62596153,  3.73872644,  3.28156498, -0.31784528, -0.30903082,\n",
       "         3.10238942, -1.23323635, -0.79024116, -0.89392928, -0.76317216,\n",
       "        -0.40191529, -0.55117094],\n",
       "       [-0.6989074 , -0.45823768, -0.39724702, -0.24540834, -0.67041292,\n",
       "        -0.59255612, -0.45557442,  1.1965676 , -0.31784528, -0.30903082,\n",
       "         3.10238942, -0.13636147, -0.20789582, -0.89392928, -0.51474124,\n",
       "        -0.40191529, -0.55117094],\n",
       "       [-0.6989074 , -0.45823768, -0.39724702, -0.24540834, -0.67041292,\n",
       "        -0.62456964,  0.59300079,  2.03056655, -0.31784528, -0.30903082,\n",
       "         3.10238942,  0.96051341, -0.20789582, -0.47758934, -0.01787942,\n",
       "        -0.40191529, -0.55117094],\n",
       "       [-0.6989074 , -0.45823768, -0.39724702, -0.24540834, -0.49071691,\n",
       "        -0.29843194, -0.03614434,  0.15406891, -0.31784528, -0.30903082,\n",
       "         3.10238942,  0.96051341,  0.37444952, -0.89392928, -0.01787942,\n",
       "        -0.40191529,  1.81431916],\n",
       "       [-0.6989074 , -0.45823768, -0.39724702, -0.24540834, -0.2885589 ,\n",
       "        -0.54546668, -0.1244454 , -0.37632514, -0.31784528, -0.30903082,\n",
       "         3.10238942, -0.13636147, -0.20789582, -0.89392928, -0.26631033,\n",
       "        -0.40191529, -0.55117094]])"
      ]
     },
     "execution_count": 224,
     "metadata": {},
     "output_type": "execute_result"
    }
   ],
   "source": [
    "X[0:5,:]"
   ]
  },
  {
   "cell_type": "code",
   "execution_count": 225,
   "metadata": {},
   "outputs": [
    {
     "data": {
      "text/plain": [
       "0    0\n",
       "1    0\n",
       "3    0\n",
       "4    0\n",
       "5    0\n",
       "Name: Revenue, dtype: int64"
      ]
     },
     "execution_count": 225,
     "metadata": {},
     "output_type": "execute_result"
    }
   ],
   "source": [
    "y = df['Revenue']\n",
    "y[0:5]"
   ]
  },
  {
   "cell_type": "code",
   "execution_count": 229,
   "metadata": {},
   "outputs": [
    {
     "name": "stdout",
     "output_type": "stream",
     "text": [
      " Train shape (7983, 17) (7983,) , Test shape (4300, 17) (4300,)\n"
     ]
    }
   ],
   "source": [
    "from sklearn.model_selection import train_test_split\n",
    "x_tr, x_t, y_tr, y_t = train_test_split(X,y, test_size=0.35, random_state=100) \n",
    "print(\" Train shape\", x_tr.shape, y_tr.shape, \", Test shape\", x_t.shape, y_t.shape)"
   ]
  },
  {
   "cell_type": "markdown",
   "metadata": {},
   "source": [
    "#### Logistic Regression"
   ]
  },
  {
   "cell_type": "code",
   "execution_count": 230,
   "metadata": {},
   "outputs": [],
   "source": [
    "from sklearn.linear_model import LogisticRegression\n",
    "from sklearn import metrics\n",
    "from sklearn.metrics import accuracy_score, roc_auc_score, f1_score, precision_score, recall_score\n",
    "from sklearn.metrics import confusion_matrix\n",
    "from sklearn.metrics import classification_report "
   ]
  },
  {
   "cell_type": "code",
   "execution_count": 231,
   "metadata": {},
   "outputs": [
    {
     "name": "stdout",
     "output_type": "stream",
     "text": [
      "Accuracy score :  0.8804651162790698 , ROC Score :  0.6647514819881442\n",
      "              precision    recall  f1-score   support\n",
      "\n",
      "           0       0.90      0.97      0.93      3655\n",
      "           1       0.70      0.36      0.47       645\n",
      "\n",
      "   micro avg       0.88      0.88      0.88      4300\n",
      "   macro avg       0.80      0.66      0.70      4300\n",
      "weighted avg       0.87      0.88      0.86      4300\n",
      "\n",
      "Confusion Matrix : \n",
      "\n",
      " [[3556   99]\n",
      " [ 415  230]]\n"
     ]
    }
   ],
   "source": [
    "lr = LogisticRegression()\n",
    "lr.fit(x_tr, y_tr)\n",
    "y_p = lr.predict(x_t)\n",
    "y_tr_p = lr.predict(x_tr)\n",
    "accuracy = accuracy_score(y_t, y_p)\n",
    "roc = roc_auc_score(y_t, y_p)\n",
    "print(\"Accuracy score : \", str(accuracy), \", ROC Score : \", str(roc))\n",
    "print(classification_report(y_t, y_p))\n",
    "print(\"Confusion Matrix : \\n\\n\", confusion_matrix(y_t, y_p))"
   ]
  },
  {
   "cell_type": "code",
   "execution_count": 232,
   "metadata": {},
   "outputs": [
    {
     "name": "stdout",
     "output_type": "stream",
     "text": [
      "              precision    recall  f1-score   support\n",
      "\n",
      "           0       0.90      0.98      0.94      6720\n",
      "           1       0.77      0.41      0.53      1263\n",
      "\n",
      "   micro avg       0.89      0.89      0.89      7983\n",
      "   macro avg       0.83      0.69      0.73      7983\n",
      "weighted avg       0.88      0.89      0.87      7983\n",
      "\n"
     ]
    }
   ],
   "source": [
    "print(classification_report(y_tr, y_tr_p))"
   ]
  },
  {
   "cell_type": "markdown",
   "metadata": {},
   "source": [
    "#### DecisionTreeClassifier"
   ]
  },
  {
   "cell_type": "code",
   "execution_count": 233,
   "metadata": {},
   "outputs": [
    {
     "name": "stdout",
     "output_type": "stream",
     "text": [
      "Accuracy score :  1.0 , ROC Score :  1.0\n",
      "              precision    recall  f1-score   support\n",
      "\n",
      "           0       1.00      1.00      1.00      3583\n",
      "           1       1.00      1.00      1.00       717\n",
      "\n",
      "   micro avg       1.00      1.00      1.00      4300\n",
      "   macro avg       1.00      1.00      1.00      4300\n",
      "weighted avg       1.00      1.00      1.00      4300\n",
      "\n",
      "Confusion Matrix : \n",
      "\n",
      " [[3583    0]\n",
      " [   0  717]]\n"
     ]
    }
   ],
   "source": [
    "from sklearn.tree import DecisionTreeClassifier\n",
    "dtc = DecisionTreeClassifier()\n",
    "dtc.fit(x_tr, y_tr)\n",
    "y_t = dtc.predict(x_t)\n",
    "y_p = dtc.predict(x_t)\n",
    "y_tr_p = dtc.predict(x_tr)\n",
    "accuracy = accuracy_score(y_t, y_p)\n",
    "roc = roc_auc_score(y_t, y_p)\n",
    "print(\"Accuracy score : \", str(accuracy), \", ROC Score : \", str(roc))\n",
    "print(classification_report(y_t, y_p))\n",
    "print(\"Confusion Matrix : \\n\\n\", confusion_matrix(y_t, y_p))"
   ]
  },
  {
   "cell_type": "markdown",
   "metadata": {},
   "source": [
    "#### ExtraTreesClassifier"
   ]
  },
  {
   "cell_type": "code",
   "execution_count": 234,
   "metadata": {},
   "outputs": [
    {
     "name": "stdout",
     "output_type": "stream",
     "text": [
      "Accuracy score :  0.8809302325581395 , ROC Score :  0.6965057759581411\n",
      "              precision    recall  f1-score   support\n",
      "\n",
      "           0       0.89      0.97      0.93      3583\n",
      "           1       0.76      0.42      0.54       717\n",
      "\n",
      "   micro avg       0.88      0.88      0.88      4300\n",
      "   macro avg       0.83      0.70      0.74      4300\n",
      "weighted avg       0.87      0.88      0.87      4300\n",
      "\n",
      "Confusion Matrix : \n",
      "\n",
      " [[3487   96]\n",
      " [ 416  301]]\n"
     ]
    }
   ],
   "source": [
    "from sklearn.ensemble import ExtraTreesClassifier\n",
    "clf_extree = ExtraTreesClassifier()\n",
    "clf_extree.fit(x_tr, y_tr)\n",
    "y_p = clf_extree.predict(x_t)\n",
    "accuracy = accuracy_score(y_t, y_p)\n",
    "roc = roc_auc_score(y_t, y_p)\n",
    "print(\"Accuracy score : \", str(accuracy), \", ROC Score : \", str(roc))\n",
    "print(classification_report(y_t, y_p))\n",
    "print(\"Confusion Matrix : \\n\\n\", confusion_matrix(y_t, y_p))"
   ]
  },
  {
   "cell_type": "markdown",
   "metadata": {},
   "source": [
    "#### RandomForestClassifier"
   ]
  },
  {
   "cell_type": "code",
   "execution_count": 235,
   "metadata": {},
   "outputs": [
    {
     "name": "stdout",
     "output_type": "stream",
     "text": [
      "Accuracy score :  0.891860465116279 , ROC Score :  0.7393216689223985\n",
      "              precision    recall  f1-score   support\n",
      "\n",
      "           0       0.91      0.97      0.94      3583\n",
      "           1       0.76      0.51      0.61       717\n",
      "\n",
      "   micro avg       0.89      0.89      0.89      4300\n",
      "   macro avg       0.84      0.74      0.77      4300\n",
      "weighted avg       0.88      0.89      0.88      4300\n",
      "\n",
      "Confusion Matrix : \n",
      "\n",
      " [[3469  114]\n",
      " [ 351  366]]\n"
     ]
    }
   ],
   "source": [
    "from sklearn.ensemble import RandomForestClassifier\n",
    "clf = RandomForestClassifier()\n",
    "clf.fit(x_tr, y_tr)\n",
    "y_p = clf.predict(x_t)\n",
    "accuracy = accuracy_score(y_t, y_p)\n",
    "roc = roc_auc_score(y_t, y_p)\n",
    "print(\"Accuracy score : \", str(accuracy), \", ROC Score : \", str(roc))\n",
    "print(classification_report(y_t, y_p))\n",
    "print(\"Confusion Matrix : \\n\\n\", confusion_matrix(y_t, y_p))"
   ]
  },
  {
   "cell_type": "code",
   "execution_count": 236,
   "metadata": {},
   "outputs": [
    {
     "name": "stdout",
     "output_type": "stream",
     "text": [
      "Accuracy score :  0.9894776399849681 , ROC Score :  0.96899618962787\n",
      "              precision    recall  f1-score   support\n",
      "\n",
      "           0       0.91      0.97      0.94      3583\n",
      "           1       0.76      0.51      0.61       717\n",
      "\n",
      "   micro avg       0.89      0.89      0.89      4300\n",
      "   macro avg       0.84      0.74      0.77      4300\n",
      "weighted avg       0.88      0.89      0.88      4300\n",
      "\n",
      "Confusion Matrix : \n",
      "\n",
      " [[6713    7]\n",
      " [  77 1186]]\n"
     ]
    }
   ],
   "source": [
    "y_tr_p = clf.predict(x_tr)\n",
    "accuracy = accuracy_score(y_tr, y_tr_p)\n",
    "roc = roc_auc_score(y_tr, y_tr_p)\n",
    "print(\"Accuracy score : \", str(accuracy), \", ROC Score : \", str(roc))\n",
    "print(classification_report(y_t, y_p))\n",
    "print(\"Confusion Matrix : \\n\\n\", confusion_matrix(y_tr, y_tr_p))"
   ]
  },
  {
   "cell_type": "markdown",
   "metadata": {},
   "source": [
    "### ensemble.GradientBoostingClassifier "
   ]
  },
  {
   "cell_type": "code",
   "execution_count": 237,
   "metadata": {},
   "outputs": [
    {
     "name": "stdout",
     "output_type": "stream",
     "text": [
      "Accuracy score :  0.8937209302325582 , ROC Score :  0.7627501400344334\n",
      "              precision    recall  f1-score   support\n",
      "\n",
      "           0       0.92      0.96      0.94      3583\n",
      "           1       0.74      0.57      0.64       717\n",
      "\n",
      "   micro avg       0.89      0.89      0.89      4300\n",
      "   macro avg       0.83      0.76      0.79      4300\n",
      "weighted avg       0.89      0.89      0.89      4300\n",
      "\n",
      "Confusion Matrix : \n",
      "\n",
      " [[3437  146]\n",
      " [ 311  406]]\n"
     ]
    }
   ],
   "source": [
    "from sklearn import ensemble\n",
    "clf = ensemble.GradientBoostingClassifier()\n",
    "clf.fit(x_tr, y_tr)\n",
    "y_p = clf.predict(x_t)\n",
    "accuracy = accuracy_score(y_t, y_p)\n",
    "roc = roc_auc_score(y_t, y_p)\n",
    "print(\"Accuracy score : \", str(accuracy), \", ROC Score : \", str(roc))\n",
    "print(classification_report(y_t, y_p))\n",
    "print(\"Confusion Matrix : \\n\\n\", confusion_matrix(y_t, y_p))"
   ]
  },
  {
   "cell_type": "code",
   "execution_count": 238,
   "metadata": {},
   "outputs": [
    {
     "name": "stdout",
     "output_type": "stream",
     "text": [
      "Accuracy score :  0.9193285732180885 , ROC Score :  0.818026983655695\n",
      "              precision    recall  f1-score   support\n",
      "\n",
      "           0       0.92      0.96      0.94      3583\n",
      "           1       0.74      0.57      0.64       717\n",
      "\n",
      "   micro avg       0.89      0.89      0.89      4300\n",
      "   macro avg       0.83      0.76      0.79      4300\n",
      "weighted avg       0.89      0.89      0.89      4300\n",
      "\n",
      "Confusion Matrix : \n",
      "\n",
      " [[6493  227]\n",
      " [ 417  846]]\n"
     ]
    }
   ],
   "source": [
    "y_tr_p = clf.predict(x_tr)\n",
    "accuracy = accuracy_score(y_tr, y_tr_p)\n",
    "roc = roc_auc_score(y_tr, y_tr_p)\n",
    "print(\"Accuracy score : \", str(accuracy), \", ROC Score : \", str(roc))\n",
    "print(classification_report(y_t, y_p))\n",
    "print(\"Confusion Matrix : \\n\\n\", confusion_matrix(y_tr, y_tr_p))"
   ]
  },
  {
   "cell_type": "markdown",
   "metadata": {},
   "source": [
    "#### GRID SEARCH"
   ]
  },
  {
   "cell_type": "code",
   "execution_count": 241,
   "metadata": {},
   "outputs": [],
   "source": [
    "from numpy.random import seed\n",
    "seed(47)\n",
    "from sklearn.ensemble import GradientBoostingClassifier\n",
    "test_sizee = np.arange(0.20, 0.45, 0.01)\n",
    "scores = []\n",
    "for t_size in test_sizee:\n",
    "        x_tr, x_t, y_tr, y_t = train_test_split(X, y, test_size=t_size, random_state=42)\n",
    "        lr = ensemble.GradientBoostingClassifier()\n",
    "        lr.fit(x_tr, y_tr)\n",
    "        y_p = lr.predict(x_t)\n",
    "        scores.append(accuracy_score(y_t, y_p))"
   ]
  },
  {
   "cell_type": "code",
   "execution_count": 242,
   "metadata": {},
   "outputs": [],
   "source": [
    "def ret_max(scores):\n",
    "    maxx = 0\n",
    "    maxx_idx = 0\n",
    "    for idx in range(len(scores)):\n",
    "        if scores[idx]>maxx:\n",
    "            maxx = scores[idx]\n",
    "            maxx_idx = idx\n",
    "    return [maxx, maxx_idx]"
   ]
  },
  {
   "cell_type": "code",
   "execution_count": 243,
   "metadata": {},
   "outputs": [
    {
     "data": {
      "image/png": "[encoded data removed]",
      "text/plain": [
       "<Figure size 1008x288 with 1 Axes>"
      ]
     },
     "metadata": {
      "needs_background": "light"
     },
     "output_type": "display_data"
    }
   ],
   "source": [
    "plt.figure(figsize=(14,4))\n",
    "plt.plot(test_sizee,scores, color='red', linewidth=3.5, label='accuracy_score')\n",
    "plt.axvline(test_sizee[ret_max(scores)[1]], linestyle='--', color='blue', linewidth=3.5, label='BEST grid point')\n",
    "plt.autoscale(tight=True, enable=True)\n",
    "plt.legend()\n",
    "plt.title('BEST PARAMETER %2.2f' %test_sizee[ret_max(scores)[1]])\n",
    "plt.xlabel('test_size')\n",
    "plt.ylabel('accuracy_score')\n",
    "plt.show()"
   ]
  },
  {
   "cell_type": "code",
   "execution_count": 244,
   "metadata": {},
   "outputs": [],
   "source": [
    "x_tr, x_t, y_tr, y_t = train_test_split(X, y, test_size=0.32, random_state=42)"
   ]
  },
  {
   "cell_type": "code",
   "execution_count": 245,
   "metadata": {},
   "outputs": [
    {
     "name": "stdout",
     "output_type": "stream",
     "text": [
      " Accuracy Score :  0.9035868735690664 , ROC Score :  0.7787046729194298\n",
      "              precision    recall  f1-score   support\n",
      "\n",
      "           0       0.93      0.96      0.94      3324\n",
      "           1       0.73      0.60      0.66       607\n",
      "\n",
      "   micro avg       0.90      0.90      0.90      3931\n",
      "   macro avg       0.83      0.78      0.80      3931\n",
      "weighted avg       0.90      0.90      0.90      3931\n",
      "\n",
      " Confusion Matrix : \n",
      "\n",
      " [[3189  135]\n",
      " [ 244  363]]\n"
     ]
    }
   ],
   "source": [
    "gbc = GradientBoostingClassifier(loss='deviance', n_estimators=50, min_samples_split=3)  \n",
    "gbc.fit(x_tr, y_tr)\n",
    "y_p = gbc.predict(x_t)\n",
    "roc = roc_auc_score(y_t, y_p)\n",
    "accuracy = accuracy_score(y_t, y_p) \n",
    "print(\" Accuracy Score : \", str(accuracy), \", ROC Score : \", str(roc))\n",
    "print(classification_report(y_t, y_p))\n",
    "print(\" Confusion Matrix : \\n\\n\", confusion_matrix(y_t, y_p))"
   ]
  },
  {
   "cell_type": "markdown",
   "metadata": {},
   "source": [
    "### RECEIVER OPERATING CHARACTERSTIC (ROC), CROSS VALIDATION\n",
    "\n",
    "\n",
    "ROC curve is a graphical plot that illustrates the performance of a binary classifier system as its discrimination threshold is verified.\n",
    "\n",
    "ROC Curves summarize the trade-off between the true positive rate and false positive rate for a predictive model using different probability thresholds.\n",
    "\n",
    "ROC curves are appropriate when the observations are balanced between each class, whereas precision-recall curves are appropriate for imbalanced datasets."
   ]
  },
  {
   "cell_type": "code",
   "execution_count": 246,
   "metadata": {},
   "outputs": [],
   "source": [
    "from sklearn.naive_bayes import GaussianNB"
   ]
  },
  {
   "cell_type": "code",
   "execution_count": 247,
   "metadata": {},
   "outputs": [],
   "source": [
    "from sklearn.metrics import roc_curve\n",
    "from sklearn.metrics import roc_auc_score\n",
    "from matplotlib import pyplot"
   ]
  },
  {
   "cell_type": "code",
   "execution_count": 248,
   "metadata": {},
   "outputs": [
    {
     "data": {
      "text/plain": [
       "Text(0, 0.5, 'True Positive Rate')"
      ]
     },
     "execution_count": 248,
     "metadata": {},
     "output_type": "execute_result"
    },
    {
     "data": {
      "image/png": "[encoded data removed]",
      "text/plain": [
       "<Figure size 864x576 with 1 Axes>"
      ]
     },
     "metadata": {
      "needs_background": "light"
     },
     "output_type": "display_data"
    }
   ],
   "source": [
    "idx = 0\n",
    "plt.figure(figsize=(12,8))\n",
    "ns_probs = [0 for _ in range(len(y_t))] # no skill prediction \n",
    "\n",
    "MLclf = [LogisticRegression(), GaussianNB(), ExtraTreesClassifier(), RandomForestClassifier(), ensemble.GradientBoostingClassifier() ]\n",
    "lablist = ['LogisticRegression' , 'GaussianNB', 'ExtraTreesClassifier', 'RandomForestClassifier', 'ensemble.GradientBoostingClassifier']\n",
    "\n",
    "roc_list = []\n",
    "for clf in MLclf: \n",
    "    y_p = clf.fit(x_tr, y_tr).predict(x_t)\n",
    "    clf_probs = clf.predict_proba(x_t)\n",
    "    clf_probs = clf_probs[:, 1]\n",
    "    ns_auc = roc_auc_score(y_t, ns_probs)\n",
    "    clf_auc = roc_auc_score(y_t, clf_probs)\n",
    "    ns_fpr, ns_tpr, _ = roc_curve(y_t, ns_probs)\n",
    "    lr_fpr, lr_tpr, _ = roc_curve(y_t, clf_probs) \n",
    "    lab_p = lablist[idx] \n",
    "    plt.plot(ns_fpr, ns_tpr, linestyle='--')\n",
    "    plt.plot(lr_fpr, lr_tpr, marker='.', label=lab_p ) \n",
    "    pyplot.legend()\n",
    "    idx += 1\n",
    "    roc_list.append(roc_auc_score(y_t, y_p))\n",
    "    \n",
    "\n",
    "plt.title('ROC CURVE')\n",
    "plt.xlabel('False Positive Rate')\n",
    "plt.ylabel('True Positive Rate')"
   ]
  },
  {
   "cell_type": "code",
   "execution_count": 249,
   "metadata": {},
   "outputs": [
    {
     "name": "stdout",
     "output_type": "stream",
     "text": [
      "The best classifier : ensemble.GradientBoostingClassifier \n",
      " with roc_auc_score :  0.782823289064405\n"
     ]
    },
    {
     "data": {
      "text/plain": [
       "GradientBoostingClassifier(criterion='friedman_mse', init=None,\n",
       "              learning_rate=0.1, loss='deviance', max_depth=3,\n",
       "              max_features=None, max_leaf_nodes=None,\n",
       "              min_impurity_decrease=0.0, min_impurity_split=None,\n",
       "              min_samples_leaf=1, min_samples_split=2,\n",
       "              min_weight_fraction_leaf=0.0, n_estimators=100,\n",
       "              n_iter_no_change=None, presort='auto', random_state=None,\n",
       "              subsample=1.0, tol=0.0001, validation_fraction=0.1,\n",
       "              verbose=0, warm_start=False)"
      ]
     },
     "execution_count": 249,
     "metadata": {},
     "output_type": "execute_result"
    }
   ],
   "source": [
    "best_roc = 0\n",
    "best_roc_idx = 0\n",
    "\n",
    "for idx in range(len(roc_list)):\n",
    "    if (roc_list[idx]>best_roc):\n",
    "        best_roc = roc_list[idx]\n",
    "        best_roc_idx = idx\n",
    "        \n",
    "print('The best classifier : ensemble.GradientBoostingClassifier', '\\n', 'with roc_auc_score : ', best_roc)\n",
    "MLclf[best_roc_idx]"
   ]
  },
  {
   "cell_type": "code",
   "execution_count": 250,
   "metadata": {},
   "outputs": [
    {
     "name": "stdout",
     "output_type": "stream",
     "text": [
      " Accuracy Score :  0.9035868735690664 , ROC Score :  0.7787046729194298\n",
      "              precision    recall  f1-score   support\n",
      "\n",
      "           0       0.93      0.96      0.94      3324\n",
      "           1       0.73      0.60      0.66       607\n",
      "\n",
      "   micro avg       0.90      0.90      0.90      3931\n",
      "   macro avg       0.83      0.78      0.80      3931\n",
      "weighted avg       0.90      0.90      0.90      3931\n",
      "\n",
      " Confusion Matrix : \n",
      "\n",
      " [[3189  135]\n",
      " [ 244  363]]\n"
     ]
    }
   ],
   "source": [
    "gbc = GradientBoostingClassifier(loss='deviance', n_estimators=50, min_samples_split=3)  \n",
    "gbc.fit(x_tr, y_tr)\n",
    "y_p = gbc.predict(x_t)\n",
    "roc = roc_auc_score(y_t, y_p)\n",
    "accuracy = accuracy_score(y_t, y_p) \n",
    "print(\" Accuracy Score : \", str(accuracy), \", ROC Score : \", str(roc))\n",
    "print(classification_report(y_t, y_p))\n",
    "print(\" Confusion Matrix : \\n\\n\", confusion_matrix(y_t, y_p))"
   ]
  },
  {
   "cell_type": "code",
   "execution_count": 251,
   "metadata": {},
   "outputs": [
    {
     "data": {
      "text/plain": [
       "<matplotlib.axes._subplots.AxesSubplot at 0x1a1bc28630>"
      ]
     },
     "execution_count": 251,
     "metadata": {},
     "output_type": "execute_result"
    },
    {
     "data": {
      "image/png": "[encoded data removed]",
      "text/plain": [
       "<Figure size 432x288 with 2 Axes>"
      ]
     },
     "metadata": {
      "needs_background": "light"
     },
     "output_type": "display_data"
    }
   ],
   "source": [
    "cmatrix = confusion_matrix(y_t, y_p)\n",
    "sns.heatmap(cmatrix, cbar=True, square=False, linewidth=1.0, cmap='coolwarm')\n"
   ]
  },
  {
   "cell_type": "markdown",
   "metadata": {},
   "source": [
    "#### SVM"
   ]
  },
  {
   "cell_type": "code",
   "execution_count": 252,
   "metadata": {},
   "outputs": [
    {
     "name": "stdout",
     "output_type": "stream",
     "text": [
      "Accuracy Score :  0.8934113457135588 ROC Score :  0.717477057672521\n",
      "              precision    recall  f1-score   support\n",
      "\n",
      "           0       0.91      0.97      0.94      3324\n",
      "           1       0.75      0.46      0.57       607\n",
      "\n",
      "   micro avg       0.89      0.89      0.89      3931\n",
      "   macro avg       0.83      0.72      0.76      3931\n",
      "weighted avg       0.88      0.89      0.88      3931\n",
      "\n",
      " Confusion Matrix : \n",
      "\n",
      " [[3231   93]\n",
      " [ 326  281]]\n"
     ]
    }
   ],
   "source": [
    "from sklearn import svm\n",
    "clf = svm.SVC(kernel='rbf')\n",
    "clf.fit(x_tr, y_tr)\n",
    "y_p = clf.predict(x_t)\n",
    "roc = roc_auc_score(y_t, y_p)\n",
    "accuracy = accuracy_score(y_t, y_p)\n",
    "print(\"Accuracy Score : \", str(accuracy), \"ROC Score : \", str(roc))\n",
    "print(classification_report(y_t, y_p))\n",
    "print(\" Confusion Matrix : \\n\\n\", confusion_matrix(y_t, y_p))"
   ]
  },
  {
   "cell_type": "markdown",
   "metadata": {},
   "source": [
    "#### GridSearchCV"
   ]
  },
  {
   "cell_type": "code",
   "execution_count": 253,
   "metadata": {},
   "outputs": [
    {
     "name": "stdout",
     "output_type": "stream",
     "text": [
      "              precision    recall  f1-score   support\n",
      "\n",
      "           0       0.91      0.97      0.94      3324\n",
      "           1       0.75      0.46      0.57       607\n",
      "\n",
      "   micro avg       0.89      0.89      0.89      3931\n",
      "   macro avg       0.83      0.72      0.76      3931\n",
      "weighted avg       0.88      0.89      0.88      3931\n",
      "\n"
     ]
    }
   ],
   "source": [
    "from sklearn.model_selection import GridSearchCV\n",
    "parameters = {'kernel':('linear', 'rbf'), 'C':[1,10]}\n",
    "svc = svm.SVC(gamma=\"scale\") \n",
    "clf = GridSearchCV(svc, parameters, cv=5)\n",
    "clf.fit(x_tr,y_tr)\n",
    "y_p = clf.predict(x_t)\n",
    "print(classification_report(y_t, y_p))"
   ]
  },
  {
   "cell_type": "code",
   "execution_count": null,
   "metadata": {},
   "outputs": [],
   "source": []
  },
  {
   "cell_type": "code",
   "execution_count": null,
   "metadata": {},
   "outputs": [],
   "source": []
  },
  {
   "cell_type": "code",
   "execution_count": null,
   "metadata": {},
   "outputs": [],
   "source": []
  },
  {
   "cell_type": "code",
   "execution_count": null,
   "metadata": {},
   "outputs": [],
   "source": []
  },
  {
   "cell_type": "code",
   "execution_count": null,
   "metadata": {},
   "outputs": [],
   "source": []
  }
 ],
 "metadata": {
  "kernelspec": {
   "display_name": "Python 3",
   "language": "python",
   "name": "python3"
  },
  "language_info": {
   "codemirror_mode": {
    "name": "ipython",
    "version": 3
   },
   "file_extension": ".py",
   "mimetype": "text/x-python",
   "name": "python",
   "nbconvert_exporter": "python",
   "pygments_lexer": "ipython3",
   "version": "3.8.8"
  }
 },
 "nbformat": 4,
 "nbformat_minor": 2
}
