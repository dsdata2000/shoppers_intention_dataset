{
 "cells": [
  {
   "cell_type": "code",
   "execution_count": 235,
   "id": "4dffdd2e",
   "metadata": {},
   "outputs": [],
   "source": [
    "import pandas as pd\n",
    "import numpy as np\n",
    "from numpy.random import seed\n",
    "import statistics\n",
    "\n",
    "import warnings\n",
    "warnings.filterwarnings(\"ignore\")\n",
    "\n",
    "import matplotlib.pyplot as plt\n",
    "import seaborn as sns"
   ]
  },
  {
   "cell_type": "code",
   "execution_count": 236,
   "id": "faf9e073",
   "metadata": {},
   "outputs": [],
   "source": [
    "seed(100)"
   ]
  },
  {
   "cell_type": "code",
   "execution_count": 237,
   "id": "75f8d38b",
   "metadata": {},
   "outputs": [
    {
     "data": {
      "text/plain": [
       "array(['Unnamed: 0', 'Administrative', 'Administrative_Duration',\n",
       "       'Informational', 'Informational_Duration', 'ProductRelated',\n",
       "       'ProductRelated_Duration', 'BounceRates', 'ExitRates',\n",
       "       'PageValues', 'SpecialDay', 'Month', 'OperatingSystems', 'Browser',\n",
       "       'Region', 'TrafficType', 'VisitorType', 'Weekend', 'Revenue'],\n",
       "      dtype='<U23')"
      ]
     },
     "execution_count": 237,
     "metadata": {},
     "output_type": "execute_result"
    }
   ],
   "source": [
    "df = pd.read_csv('./DATA/online_transaction_dataset_processed.csv')\n",
    "attr = df.columns.tolist()\n",
    "np.transpose(attr)"
   ]
  },
  {
   "cell_type": "code",
   "execution_count": 238,
   "id": "3e4796a5",
   "metadata": {},
   "outputs": [
    {
     "data": {
      "text/html": [
       "<div>\n",
       "<style scoped>\n",
       "    .dataframe tbody tr th:only-of-type {\n",
       "        vertical-align: middle;\n",
       "    }\n",
       "\n",
       "    .dataframe tbody tr th {\n",
       "        vertical-align: top;\n",
       "    }\n",
       "\n",
       "    .dataframe thead th {\n",
       "        text-align: right;\n",
       "    }\n",
       "</style>\n",
       "<table border=\"1\" class=\"dataframe\">\n",
       "  <thead>\n",
       "    <tr style=\"text-align: right;\">\n",
       "      <th></th>\n",
       "      <th>Unnamed: 0</th>\n",
       "      <th>Administrative</th>\n",
       "      <th>Administrative_Duration</th>\n",
       "      <th>Informational</th>\n",
       "      <th>Informational_Duration</th>\n",
       "      <th>ProductRelated</th>\n",
       "      <th>ProductRelated_Duration</th>\n",
       "      <th>BounceRates</th>\n",
       "      <th>ExitRates</th>\n",
       "      <th>PageValues</th>\n",
       "      <th>SpecialDay</th>\n",
       "      <th>Month</th>\n",
       "      <th>OperatingSystems</th>\n",
       "      <th>Browser</th>\n",
       "      <th>Region</th>\n",
       "      <th>TrafficType</th>\n",
       "      <th>VisitorType</th>\n",
       "      <th>Weekend</th>\n",
       "      <th>Revenue</th>\n",
       "    </tr>\n",
       "  </thead>\n",
       "  <tbody>\n",
       "    <tr>\n",
       "      <th>0</th>\n",
       "      <td>0</td>\n",
       "      <td>0.0</td>\n",
       "      <td>0.0</td>\n",
       "      <td>0.0</td>\n",
       "      <td>0.0</td>\n",
       "      <td>1.0</td>\n",
       "      <td>0.000000</td>\n",
       "      <td>0.200000</td>\n",
       "      <td>0.200000</td>\n",
       "      <td>0.0</td>\n",
       "      <td>0.0</td>\n",
       "      <td>9</td>\n",
       "      <td>1</td>\n",
       "      <td>1</td>\n",
       "      <td>1</td>\n",
       "      <td>1</td>\n",
       "      <td>0</td>\n",
       "      <td>0</td>\n",
       "      <td>0</td>\n",
       "    </tr>\n",
       "    <tr>\n",
       "      <th>1</th>\n",
       "      <td>1</td>\n",
       "      <td>0.0</td>\n",
       "      <td>0.0</td>\n",
       "      <td>0.0</td>\n",
       "      <td>0.0</td>\n",
       "      <td>2.0</td>\n",
       "      <td>64.000000</td>\n",
       "      <td>0.000000</td>\n",
       "      <td>0.100000</td>\n",
       "      <td>0.0</td>\n",
       "      <td>0.0</td>\n",
       "      <td>9</td>\n",
       "      <td>2</td>\n",
       "      <td>2</td>\n",
       "      <td>1</td>\n",
       "      <td>2</td>\n",
       "      <td>0</td>\n",
       "      <td>0</td>\n",
       "      <td>0</td>\n",
       "    </tr>\n",
       "    <tr>\n",
       "      <th>2</th>\n",
       "      <td>3</td>\n",
       "      <td>0.0</td>\n",
       "      <td>0.0</td>\n",
       "      <td>0.0</td>\n",
       "      <td>0.0</td>\n",
       "      <td>2.0</td>\n",
       "      <td>2.666667</td>\n",
       "      <td>0.050000</td>\n",
       "      <td>0.140000</td>\n",
       "      <td>0.0</td>\n",
       "      <td>0.0</td>\n",
       "      <td>9</td>\n",
       "      <td>3</td>\n",
       "      <td>2</td>\n",
       "      <td>2</td>\n",
       "      <td>4</td>\n",
       "      <td>0</td>\n",
       "      <td>0</td>\n",
       "      <td>0</td>\n",
       "    </tr>\n",
       "    <tr>\n",
       "      <th>3</th>\n",
       "      <td>4</td>\n",
       "      <td>0.0</td>\n",
       "      <td>0.0</td>\n",
       "      <td>0.0</td>\n",
       "      <td>0.0</td>\n",
       "      <td>10.0</td>\n",
       "      <td>627.500000</td>\n",
       "      <td>0.020000</td>\n",
       "      <td>0.050000</td>\n",
       "      <td>0.0</td>\n",
       "      <td>0.0</td>\n",
       "      <td>9</td>\n",
       "      <td>3</td>\n",
       "      <td>3</td>\n",
       "      <td>1</td>\n",
       "      <td>4</td>\n",
       "      <td>0</td>\n",
       "      <td>1</td>\n",
       "      <td>0</td>\n",
       "    </tr>\n",
       "    <tr>\n",
       "      <th>4</th>\n",
       "      <td>5</td>\n",
       "      <td>0.0</td>\n",
       "      <td>0.0</td>\n",
       "      <td>0.0</td>\n",
       "      <td>0.0</td>\n",
       "      <td>19.0</td>\n",
       "      <td>154.216667</td>\n",
       "      <td>0.015789</td>\n",
       "      <td>0.024561</td>\n",
       "      <td>0.0</td>\n",
       "      <td>0.0</td>\n",
       "      <td>9</td>\n",
       "      <td>2</td>\n",
       "      <td>2</td>\n",
       "      <td>1</td>\n",
       "      <td>3</td>\n",
       "      <td>0</td>\n",
       "      <td>0</td>\n",
       "      <td>0</td>\n",
       "    </tr>\n",
       "  </tbody>\n",
       "</table>\n",
       "</div>"
      ],
      "text/plain": [
       "   Unnamed: 0  Administrative  Administrative_Duration  Informational  \\\n",
       "0           0             0.0                      0.0            0.0   \n",
       "1           1             0.0                      0.0            0.0   \n",
       "2           3             0.0                      0.0            0.0   \n",
       "3           4             0.0                      0.0            0.0   \n",
       "4           5             0.0                      0.0            0.0   \n",
       "\n",
       "   Informational_Duration  ProductRelated  ProductRelated_Duration  \\\n",
       "0                     0.0             1.0                 0.000000   \n",
       "1                     0.0             2.0                64.000000   \n",
       "2                     0.0             2.0                 2.666667   \n",
       "3                     0.0            10.0               627.500000   \n",
       "4                     0.0            19.0               154.216667   \n",
       "\n",
       "   BounceRates  ExitRates  PageValues  SpecialDay  Month  OperatingSystems  \\\n",
       "0     0.200000   0.200000         0.0         0.0      9                 1   \n",
       "1     0.000000   0.100000         0.0         0.0      9                 2   \n",
       "2     0.050000   0.140000         0.0         0.0      9                 3   \n",
       "3     0.020000   0.050000         0.0         0.0      9                 3   \n",
       "4     0.015789   0.024561         0.0         0.0      9                 2   \n",
       "\n",
       "   Browser  Region  TrafficType  VisitorType  Weekend  Revenue  \n",
       "0        1       1            1            0        0        0  \n",
       "1        2       1            2            0        0        0  \n",
       "2        2       2            4            0        0        0  \n",
       "3        3       1            4            0        1        0  \n",
       "4        2       1            3            0        0        0  "
      ]
     },
     "execution_count": 238,
     "metadata": {},
     "output_type": "execute_result"
    }
   ],
   "source": [
    "df.head()"
   ]
  },
  {
   "cell_type": "code",
   "execution_count": 239,
   "id": "1822c24b",
   "metadata": {},
   "outputs": [
    {
     "data": {
      "text/plain": [
       "Revenue\n",
       "0    10375\n",
       "1     1908\n",
       "Name: count, dtype: int64"
      ]
     },
     "execution_count": 239,
     "metadata": {},
     "output_type": "execute_result"
    }
   ],
   "source": [
    "df['Revenue'].value_counts()"
   ]
  },
  {
   "cell_type": "code",
   "execution_count": 240,
   "id": "bcfcee9c",
   "metadata": {},
   "outputs": [
    {
     "data": {
      "text/plain": [
       "Month\n",
       "0    3357\n",
       "1    2995\n",
       "2    1884\n",
       "3    1727\n",
       "4     549\n",
       "5     448\n",
       "6     433\n",
       "7     431\n",
       "8     288\n",
       "9     171\n",
       "Name: count, dtype: int64"
      ]
     },
     "execution_count": 240,
     "metadata": {},
     "output_type": "execute_result"
    }
   ],
   "source": [
    "df['Month'].value_counts()"
   ]
  },
  {
   "cell_type": "code",
   "execution_count": 241,
   "id": "14980e7e",
   "metadata": {},
   "outputs": [
    {
     "data": {
      "text/plain": [
       "['Administrative',\n",
       " 'Administrative_Duration',\n",
       " 'Informational',\n",
       " 'Informational_Duration',\n",
       " 'ProductRelated',\n",
       " 'ProductRelated_Duration',\n",
       " 'BounceRates',\n",
       " 'ExitRates',\n",
       " 'PageValues',\n",
       " 'SpecialDay',\n",
       " 'Month',\n",
       " 'OperatingSystems',\n",
       " 'Browser',\n",
       " 'Region',\n",
       " 'TrafficType',\n",
       " 'VisitorType',\n",
       " 'Weekend',\n",
       " 'Revenue']"
      ]
     },
     "execution_count": 241,
     "metadata": {},
     "output_type": "execute_result"
    }
   ],
   "source": [
    "attr[1:len(attr)]"
   ]
  },
  {
   "cell_type": "code",
   "execution_count": 242,
   "id": "f1b8961e",
   "metadata": {},
   "outputs": [
    {
     "data": {
      "text/html": [
       "<div>\n",
       "<style scoped>\n",
       "    .dataframe tbody tr th:only-of-type {\n",
       "        vertical-align: middle;\n",
       "    }\n",
       "\n",
       "    .dataframe tbody tr th {\n",
       "        vertical-align: top;\n",
       "    }\n",
       "\n",
       "    .dataframe thead th {\n",
       "        text-align: right;\n",
       "    }\n",
       "</style>\n",
       "<table border=\"1\" class=\"dataframe\">\n",
       "  <thead>\n",
       "    <tr style=\"text-align: right;\">\n",
       "      <th></th>\n",
       "      <th>Administrative</th>\n",
       "      <th>Administrative_Duration</th>\n",
       "      <th>Informational</th>\n",
       "      <th>Informational_Duration</th>\n",
       "      <th>ProductRelated</th>\n",
       "      <th>ProductRelated_Duration</th>\n",
       "      <th>BounceRates</th>\n",
       "      <th>ExitRates</th>\n",
       "      <th>PageValues</th>\n",
       "      <th>SpecialDay</th>\n",
       "      <th>Month</th>\n",
       "      <th>OperatingSystems</th>\n",
       "      <th>Browser</th>\n",
       "      <th>Region</th>\n",
       "      <th>TrafficType</th>\n",
       "      <th>VisitorType</th>\n",
       "      <th>Weekend</th>\n",
       "      <th>Revenue</th>\n",
       "    </tr>\n",
       "  </thead>\n",
       "  <tbody>\n",
       "    <tr>\n",
       "      <th>0</th>\n",
       "      <td>0.0</td>\n",
       "      <td>0.0</td>\n",
       "      <td>0.0</td>\n",
       "      <td>0.0</td>\n",
       "      <td>1.0</td>\n",
       "      <td>0.000000</td>\n",
       "      <td>0.200000</td>\n",
       "      <td>0.200000</td>\n",
       "      <td>0.0</td>\n",
       "      <td>0.0</td>\n",
       "      <td>9</td>\n",
       "      <td>1</td>\n",
       "      <td>1</td>\n",
       "      <td>1</td>\n",
       "      <td>1</td>\n",
       "      <td>0</td>\n",
       "      <td>0</td>\n",
       "      <td>0</td>\n",
       "    </tr>\n",
       "    <tr>\n",
       "      <th>1</th>\n",
       "      <td>0.0</td>\n",
       "      <td>0.0</td>\n",
       "      <td>0.0</td>\n",
       "      <td>0.0</td>\n",
       "      <td>2.0</td>\n",
       "      <td>64.000000</td>\n",
       "      <td>0.000000</td>\n",
       "      <td>0.100000</td>\n",
       "      <td>0.0</td>\n",
       "      <td>0.0</td>\n",
       "      <td>9</td>\n",
       "      <td>2</td>\n",
       "      <td>2</td>\n",
       "      <td>1</td>\n",
       "      <td>2</td>\n",
       "      <td>0</td>\n",
       "      <td>0</td>\n",
       "      <td>0</td>\n",
       "    </tr>\n",
       "    <tr>\n",
       "      <th>2</th>\n",
       "      <td>0.0</td>\n",
       "      <td>0.0</td>\n",
       "      <td>0.0</td>\n",
       "      <td>0.0</td>\n",
       "      <td>2.0</td>\n",
       "      <td>2.666667</td>\n",
       "      <td>0.050000</td>\n",
       "      <td>0.140000</td>\n",
       "      <td>0.0</td>\n",
       "      <td>0.0</td>\n",
       "      <td>9</td>\n",
       "      <td>3</td>\n",
       "      <td>2</td>\n",
       "      <td>2</td>\n",
       "      <td>4</td>\n",
       "      <td>0</td>\n",
       "      <td>0</td>\n",
       "      <td>0</td>\n",
       "    </tr>\n",
       "    <tr>\n",
       "      <th>3</th>\n",
       "      <td>0.0</td>\n",
       "      <td>0.0</td>\n",
       "      <td>0.0</td>\n",
       "      <td>0.0</td>\n",
       "      <td>10.0</td>\n",
       "      <td>627.500000</td>\n",
       "      <td>0.020000</td>\n",
       "      <td>0.050000</td>\n",
       "      <td>0.0</td>\n",
       "      <td>0.0</td>\n",
       "      <td>9</td>\n",
       "      <td>3</td>\n",
       "      <td>3</td>\n",
       "      <td>1</td>\n",
       "      <td>4</td>\n",
       "      <td>0</td>\n",
       "      <td>1</td>\n",
       "      <td>0</td>\n",
       "    </tr>\n",
       "    <tr>\n",
       "      <th>4</th>\n",
       "      <td>0.0</td>\n",
       "      <td>0.0</td>\n",
       "      <td>0.0</td>\n",
       "      <td>0.0</td>\n",
       "      <td>19.0</td>\n",
       "      <td>154.216667</td>\n",
       "      <td>0.015789</td>\n",
       "      <td>0.024561</td>\n",
       "      <td>0.0</td>\n",
       "      <td>0.0</td>\n",
       "      <td>9</td>\n",
       "      <td>2</td>\n",
       "      <td>2</td>\n",
       "      <td>1</td>\n",
       "      <td>3</td>\n",
       "      <td>0</td>\n",
       "      <td>0</td>\n",
       "      <td>0</td>\n",
       "    </tr>\n",
       "  </tbody>\n",
       "</table>\n",
       "</div>"
      ],
      "text/plain": [
       "   Administrative  Administrative_Duration  Informational  \\\n",
       "0             0.0                      0.0            0.0   \n",
       "1             0.0                      0.0            0.0   \n",
       "2             0.0                      0.0            0.0   \n",
       "3             0.0                      0.0            0.0   \n",
       "4             0.0                      0.0            0.0   \n",
       "\n",
       "   Informational_Duration  ProductRelated  ProductRelated_Duration  \\\n",
       "0                     0.0             1.0                 0.000000   \n",
       "1                     0.0             2.0                64.000000   \n",
       "2                     0.0             2.0                 2.666667   \n",
       "3                     0.0            10.0               627.500000   \n",
       "4                     0.0            19.0               154.216667   \n",
       "\n",
       "   BounceRates  ExitRates  PageValues  SpecialDay  Month  OperatingSystems  \\\n",
       "0     0.200000   0.200000         0.0         0.0      9                 1   \n",
       "1     0.000000   0.100000         0.0         0.0      9                 2   \n",
       "2     0.050000   0.140000         0.0         0.0      9                 3   \n",
       "3     0.020000   0.050000         0.0         0.0      9                 3   \n",
       "4     0.015789   0.024561         0.0         0.0      9                 2   \n",
       "\n",
       "   Browser  Region  TrafficType  VisitorType  Weekend  Revenue  \n",
       "0        1       1            1            0        0        0  \n",
       "1        2       1            2            0        0        0  \n",
       "2        2       2            4            0        0        0  \n",
       "3        3       1            4            0        1        0  \n",
       "4        2       1            3            0        0        0  "
      ]
     },
     "execution_count": 242,
     "metadata": {},
     "output_type": "execute_result"
    }
   ],
   "source": [
    "df[attr[1:len(attr)]].head()"
   ]
  },
  {
   "cell_type": "code",
   "execution_count": 243,
   "id": "d6770845",
   "metadata": {},
   "outputs": [
    {
     "data": {
      "text/plain": [
       "(array(['Administrative', 'Administrative_Duration', 'Informational',\n",
       "        'Informational_Duration', 'ProductRelated',\n",
       "        'ProductRelated_Duration', 'BounceRates', 'ExitRates',\n",
       "        'PageValues', 'SpecialDay', 'Month', 'OperatingSystems', 'Browser',\n",
       "        'Region', 'TrafficType', 'VisitorType', 'Weekend', 'Revenue'],\n",
       "       dtype='<U23'),\n",
       " 'Revenue')"
      ]
     },
     "execution_count": 243,
     "metadata": {},
     "output_type": "execute_result"
    }
   ],
   "source": [
    "np.transpose(attr[1:len(attr)]), attr[len(attr)-1]"
   ]
  },
  {
   "cell_type": "code",
   "execution_count": 244,
   "id": "e599c5d5",
   "metadata": {},
   "outputs": [
    {
     "data": {
      "text/plain": [
       "'Revenue'"
      ]
     },
     "execution_count": 244,
     "metadata": {},
     "output_type": "execute_result"
    }
   ],
   "source": [
    "attr[len(attr)-1]"
   ]
  },
  {
   "cell_type": "code",
   "execution_count": 245,
   "id": "d78cc511",
   "metadata": {},
   "outputs": [
    {
     "data": {
      "text/plain": [
       "Revenue\n",
       "0    10375\n",
       "1     1908\n",
       "Name: count, dtype: int64"
      ]
     },
     "execution_count": 245,
     "metadata": {},
     "output_type": "execute_result"
    }
   ],
   "source": [
    "df[attr[len(attr)-1]].value_counts()"
   ]
  },
  {
   "cell_type": "code",
   "execution_count": 246,
   "id": "abda7d50",
   "metadata": {},
   "outputs": [],
   "source": [
    "from sklearn.model_selection import train_test_split\n",
    "from sklearn.preprocessing import StandardScaler\n",
    "from sklearn.metrics import classification_report, confusion_matrix\n",
    "from sklearn.metrics import roc_auc_score, roc_curve\n",
    "from matplotlib import pyplot\n",
    "\n",
    "\n",
    "from sklearn.ensemble import GradientBoostingClassifier\n",
    "from sklearn.ensemble import RandomForestClassifier "
   ]
  },
  {
   "cell_type": "code",
   "execution_count": 247,
   "id": "47938721",
   "metadata": {},
   "outputs": [
    {
     "data": {
      "text/plain": [
       "['Administrative',\n",
       " 'Administrative_Duration',\n",
       " 'Informational',\n",
       " 'Informational_Duration',\n",
       " 'ProductRelated',\n",
       " 'ProductRelated_Duration',\n",
       " 'BounceRates',\n",
       " 'ExitRates',\n",
       " 'PageValues',\n",
       " 'SpecialDay',\n",
       " 'Month',\n",
       " 'OperatingSystems',\n",
       " 'Browser',\n",
       " 'Region',\n",
       " 'TrafficType',\n",
       " 'VisitorType',\n",
       " 'Weekend']"
      ]
     },
     "execution_count": 247,
     "metadata": {},
     "output_type": "execute_result"
    }
   ],
   "source": [
    "attr[1:len(attr)-1]"
   ]
  },
  {
   "cell_type": "code",
   "execution_count": 248,
   "id": "2f431636",
   "metadata": {},
   "outputs": [
    {
     "data": {
      "text/html": [
       "<div>\n",
       "<style scoped>\n",
       "    .dataframe tbody tr th:only-of-type {\n",
       "        vertical-align: middle;\n",
       "    }\n",
       "\n",
       "    .dataframe tbody tr th {\n",
       "        vertical-align: top;\n",
       "    }\n",
       "\n",
       "    .dataframe thead th {\n",
       "        text-align: right;\n",
       "    }\n",
       "</style>\n",
       "<table border=\"1\" class=\"dataframe\">\n",
       "  <thead>\n",
       "    <tr style=\"text-align: right;\">\n",
       "      <th></th>\n",
       "      <th>Unnamed: 0</th>\n",
       "      <th>Administrative</th>\n",
       "      <th>Administrative_Duration</th>\n",
       "      <th>Informational</th>\n",
       "      <th>Informational_Duration</th>\n",
       "      <th>ProductRelated</th>\n",
       "      <th>ProductRelated_Duration</th>\n",
       "      <th>BounceRates</th>\n",
       "      <th>ExitRates</th>\n",
       "      <th>PageValues</th>\n",
       "      <th>SpecialDay</th>\n",
       "      <th>Month</th>\n",
       "      <th>OperatingSystems</th>\n",
       "      <th>Browser</th>\n",
       "      <th>Region</th>\n",
       "      <th>TrafficType</th>\n",
       "      <th>VisitorType</th>\n",
       "      <th>Weekend</th>\n",
       "      <th>Revenue</th>\n",
       "    </tr>\n",
       "  </thead>\n",
       "  <tbody>\n",
       "    <tr>\n",
       "      <th>0</th>\n",
       "      <td>0</td>\n",
       "      <td>-0.698907</td>\n",
       "      <td>-0.458238</td>\n",
       "      <td>-0.397247</td>\n",
       "      <td>-0.245408</td>\n",
       "      <td>-0.692875</td>\n",
       "      <td>-0.625962</td>\n",
       "      <td>3.738726</td>\n",
       "      <td>3.281565</td>\n",
       "      <td>-0.317845</td>\n",
       "      <td>-0.309031</td>\n",
       "      <td>3.102389</td>\n",
       "      <td>-1.233236</td>\n",
       "      <td>-0.790241</td>\n",
       "      <td>-0.893929</td>\n",
       "      <td>-0.763172</td>\n",
       "      <td>-0.401915</td>\n",
       "      <td>-0.551171</td>\n",
       "      <td>0</td>\n",
       "    </tr>\n",
       "    <tr>\n",
       "      <th>1</th>\n",
       "      <td>1</td>\n",
       "      <td>-0.698907</td>\n",
       "      <td>-0.458238</td>\n",
       "      <td>-0.397247</td>\n",
       "      <td>-0.245408</td>\n",
       "      <td>-0.670413</td>\n",
       "      <td>-0.592556</td>\n",
       "      <td>-0.455574</td>\n",
       "      <td>1.196568</td>\n",
       "      <td>-0.317845</td>\n",
       "      <td>-0.309031</td>\n",
       "      <td>3.102389</td>\n",
       "      <td>-0.136361</td>\n",
       "      <td>-0.207896</td>\n",
       "      <td>-0.893929</td>\n",
       "      <td>-0.514741</td>\n",
       "      <td>-0.401915</td>\n",
       "      <td>-0.551171</td>\n",
       "      <td>0</td>\n",
       "    </tr>\n",
       "    <tr>\n",
       "      <th>2</th>\n",
       "      <td>3</td>\n",
       "      <td>-0.698907</td>\n",
       "      <td>-0.458238</td>\n",
       "      <td>-0.397247</td>\n",
       "      <td>-0.245408</td>\n",
       "      <td>-0.670413</td>\n",
       "      <td>-0.624570</td>\n",
       "      <td>0.593001</td>\n",
       "      <td>2.030567</td>\n",
       "      <td>-0.317845</td>\n",
       "      <td>-0.309031</td>\n",
       "      <td>3.102389</td>\n",
       "      <td>0.960513</td>\n",
       "      <td>-0.207896</td>\n",
       "      <td>-0.477589</td>\n",
       "      <td>-0.017879</td>\n",
       "      <td>-0.401915</td>\n",
       "      <td>-0.551171</td>\n",
       "      <td>0</td>\n",
       "    </tr>\n",
       "    <tr>\n",
       "      <th>3</th>\n",
       "      <td>4</td>\n",
       "      <td>-0.698907</td>\n",
       "      <td>-0.458238</td>\n",
       "      <td>-0.397247</td>\n",
       "      <td>-0.245408</td>\n",
       "      <td>-0.490717</td>\n",
       "      <td>-0.298432</td>\n",
       "      <td>-0.036144</td>\n",
       "      <td>0.154069</td>\n",
       "      <td>-0.317845</td>\n",
       "      <td>-0.309031</td>\n",
       "      <td>3.102389</td>\n",
       "      <td>0.960513</td>\n",
       "      <td>0.374450</td>\n",
       "      <td>-0.893929</td>\n",
       "      <td>-0.017879</td>\n",
       "      <td>-0.401915</td>\n",
       "      <td>1.814319</td>\n",
       "      <td>0</td>\n",
       "    </tr>\n",
       "    <tr>\n",
       "      <th>4</th>\n",
       "      <td>5</td>\n",
       "      <td>-0.698907</td>\n",
       "      <td>-0.458238</td>\n",
       "      <td>-0.397247</td>\n",
       "      <td>-0.245408</td>\n",
       "      <td>-0.288559</td>\n",
       "      <td>-0.545467</td>\n",
       "      <td>-0.124445</td>\n",
       "      <td>-0.376325</td>\n",
       "      <td>-0.317845</td>\n",
       "      <td>-0.309031</td>\n",
       "      <td>3.102389</td>\n",
       "      <td>-0.136361</td>\n",
       "      <td>-0.207896</td>\n",
       "      <td>-0.893929</td>\n",
       "      <td>-0.266310</td>\n",
       "      <td>-0.401915</td>\n",
       "      <td>-0.551171</td>\n",
       "      <td>0</td>\n",
       "    </tr>\n",
       "  </tbody>\n",
       "</table>\n",
       "</div>"
      ],
      "text/plain": [
       "   Unnamed: 0  Administrative  Administrative_Duration  Informational  \\\n",
       "0           0       -0.698907                -0.458238      -0.397247   \n",
       "1           1       -0.698907                -0.458238      -0.397247   \n",
       "2           3       -0.698907                -0.458238      -0.397247   \n",
       "3           4       -0.698907                -0.458238      -0.397247   \n",
       "4           5       -0.698907                -0.458238      -0.397247   \n",
       "\n",
       "   Informational_Duration  ProductRelated  ProductRelated_Duration  \\\n",
       "0               -0.245408       -0.692875                -0.625962   \n",
       "1               -0.245408       -0.670413                -0.592556   \n",
       "2               -0.245408       -0.670413                -0.624570   \n",
       "3               -0.245408       -0.490717                -0.298432   \n",
       "4               -0.245408       -0.288559                -0.545467   \n",
       "\n",
       "   BounceRates  ExitRates  PageValues  SpecialDay     Month  OperatingSystems  \\\n",
       "0     3.738726   3.281565   -0.317845   -0.309031  3.102389         -1.233236   \n",
       "1    -0.455574   1.196568   -0.317845   -0.309031  3.102389         -0.136361   \n",
       "2     0.593001   2.030567   -0.317845   -0.309031  3.102389          0.960513   \n",
       "3    -0.036144   0.154069   -0.317845   -0.309031  3.102389          0.960513   \n",
       "4    -0.124445  -0.376325   -0.317845   -0.309031  3.102389         -0.136361   \n",
       "\n",
       "    Browser    Region  TrafficType  VisitorType   Weekend  Revenue  \n",
       "0 -0.790241 -0.893929    -0.763172    -0.401915 -0.551171        0  \n",
       "1 -0.207896 -0.893929    -0.514741    -0.401915 -0.551171        0  \n",
       "2 -0.207896 -0.477589    -0.017879    -0.401915 -0.551171        0  \n",
       "3  0.374450 -0.893929    -0.017879    -0.401915  1.814319        0  \n",
       "4 -0.207896 -0.893929    -0.266310    -0.401915 -0.551171        0  "
      ]
     },
     "execution_count": 248,
     "metadata": {},
     "output_type": "execute_result"
    }
   ],
   "source": [
    "X1 = df[attr[1:len(attr)-1]].values\n",
    "X = StandardScaler().fit(X1).transform(X1)\n",
    "df[attr[1:len(attr)-1]] = X\n",
    "\n",
    "df.head()"
   ]
  },
  {
   "cell_type": "code",
   "execution_count": 249,
   "id": "26f0bbc1",
   "metadata": {},
   "outputs": [],
   "source": [
    "x_tr, x_t, y_tr, y_t = train_test_split(df[attr[1:len(attr)-1]], df['Revenue'], test_size=0.4, random_state=100)"
   ]
  },
  {
   "cell_type": "code",
   "execution_count": 250,
   "id": "80ec8e0b",
   "metadata": {},
   "outputs": [
    {
     "data": {
      "text/plain": [
       "((7369, 17), (4914, 17), (7369,), (4914,))"
      ]
     },
     "execution_count": 250,
     "metadata": {},
     "output_type": "execute_result"
    }
   ],
   "source": [
    "x_tr.shape, x_t.shape, y_tr.shape, y_t.shape"
   ]
  },
  {
   "cell_type": "code",
   "execution_count": 251,
   "id": "6169edb7",
   "metadata": {},
   "outputs": [],
   "source": [
    "#clf = GradientBoostingClassifier()\n",
    "clf = RandomForestClassifier()\n",
    "clf.fit(x_tr, y_tr)\n",
    "y_p = clf.predict(x_t)"
   ]
  },
  {
   "cell_type": "code",
   "execution_count": 252,
   "id": "34aa44a9",
   "metadata": {},
   "outputs": [
    {
     "name": "stdout",
     "output_type": "stream",
     "text": [
      "              precision    recall  f1-score   support\n",
      "\n",
      "           0       0.92      0.96      0.94      4172\n",
      "           1       0.72      0.56      0.63       742\n",
      "\n",
      "    accuracy                           0.90      4914\n",
      "   macro avg       0.82      0.76      0.79      4914\n",
      "weighted avg       0.89      0.90      0.90      4914\n",
      "\n"
     ]
    }
   ],
   "source": [
    "print(classification_report(y_t, y_p))"
   ]
  },
  {
   "cell_type": "code",
   "execution_count": 253,
   "id": "adba69c2",
   "metadata": {},
   "outputs": [
    {
     "name": "stdout",
     "output_type": "stream",
     "text": [
      "[[4011  161]\n",
      " [ 326  416]]\n"
     ]
    }
   ],
   "source": [
    "print(confusion_matrix(y_t, y_p))"
   ]
  },
  {
   "cell_type": "code",
   "execution_count": 254,
   "id": "078641c2",
   "metadata": {},
   "outputs": [],
   "source": [
    "clf_prob = clf.predict_proba(x_t)"
   ]
  },
  {
   "cell_type": "code",
   "execution_count": 255,
   "id": "b55f3db4",
   "metadata": {},
   "outputs": [
    {
     "data": {
      "text/plain": [
       "array([0.76, 0.  , 0.  , ..., 0.04, 0.02, 0.09])"
      ]
     },
     "execution_count": 255,
     "metadata": {},
     "output_type": "execute_result"
    }
   ],
   "source": [
    "clf_probability = clf_prob[:,1]\n",
    "clf_probability"
   ]
  },
  {
   "cell_type": "code",
   "execution_count": 256,
   "id": "951292e3",
   "metadata": {},
   "outputs": [],
   "source": [
    "df_prob = pd.DataFrame({'clf_prob': clf_probability})"
   ]
  },
  {
   "cell_type": "code",
   "execution_count": 257,
   "id": "2f6c4a8b",
   "metadata": {},
   "outputs": [
    {
     "data": {
      "text/plain": [
       "clf_prob\n",
       "0.00    1037\n",
       "0.01     575\n",
       "0.02     404\n",
       "0.03     308\n",
       "0.04     231\n",
       "        ... \n",
       "0.78       5\n",
       "0.97       4\n",
       "0.99       2\n",
       "1.00       2\n",
       "0.98       1\n",
       "Name: count, Length: 101, dtype: int64"
      ]
     },
     "execution_count": 257,
     "metadata": {},
     "output_type": "execute_result"
    }
   ],
   "source": [
    "df_prob['clf_prob'].value_counts()"
   ]
  },
  {
   "cell_type": "code",
   "execution_count": 258,
   "id": "6c21c4b6",
   "metadata": {},
   "outputs": [],
   "source": [
    "clf_fpr, clf_tpr, _ = roc_curve(y_t, clf_probability)  \n",
    "nc_fpr, nc_trp, _ = roc_curve(y_t, np.zeros(len(y_t)))"
   ]
  },
  {
   "cell_type": "code",
   "execution_count": 259,
   "id": "a13968a5",
   "metadata": {},
   "outputs": [
    {
     "data": {
      "image/png": "[encoded data removed]",
      "text/plain": [
       "<Figure size 1200x400 with 1 Axes>"
      ]
     },
     "metadata": {},
     "output_type": "display_data"
    }
   ],
   "source": [
    "plt.figure(figsize=(12,4))\n",
    "plt.plot(clf_fpr[::25], clf_tpr[::25], \n",
    "         color='blue', label='RandomForestClassifier',\n",
    "         marker='h', markeredgecolor='red',\n",
    "         markersize=12)\n",
    "plt.plot(nc_fpr, nc_trp, \n",
    "         color='green', label='no_classifier',\n",
    "         marker='s', markeredgecolor='purple',\n",
    "         linestyle='--', linewidth=4.5)\n",
    "plt.legend()\n",
    "plt.xlabel('False positive rate')\n",
    "plt.ylabel('True positive rate')\n",
    "plt.title('ROC-CURVE: online-transaction')\n",
    "plt.show()"
   ]
  },
  {
   "cell_type": "code",
   "execution_count": 260,
   "id": "bd0543e1",
   "metadata": {},
   "outputs": [],
   "source": [
    "df_p = pd.DataFrame({'y_t': y_t, 'y_p': y_p})"
   ]
  },
  {
   "cell_type": "code",
   "execution_count": 261,
   "id": "cd993758",
   "metadata": {},
   "outputs": [
    {
     "data": {
      "text/plain": [
       "y_t\n",
       "0    4172\n",
       "1     742\n",
       "Name: count, dtype: int64"
      ]
     },
     "execution_count": 261,
     "metadata": {},
     "output_type": "execute_result"
    }
   ],
   "source": [
    "df_p['y_t'].value_counts()"
   ]
  },
  {
   "cell_type": "code",
   "execution_count": 262,
   "id": "fa687b6f",
   "metadata": {},
   "outputs": [
    {
     "name": "stdout",
     "output_type": "stream",
     "text": [
      "[[4011  161]\n",
      " [ 326  416]]\n"
     ]
    }
   ],
   "source": [
    "print(confusion_matrix(y_t, y_p))"
   ]
  },
  {
   "cell_type": "code",
   "execution_count": 263,
   "id": "212ac86c",
   "metadata": {},
   "outputs": [
    {
     "data": {
      "text/plain": [
       "0.56"
      ]
     },
     "execution_count": 263,
     "metadata": {},
     "output_type": "execute_result"
    }
   ],
   "source": [
    "recall = confusion_matrix(y_t, y_p)[1][1]/(confusion_matrix(y_t, y_p)[1][1]+confusion_matrix(y_t, y_p)[1][0])\n",
    "np.round(recall, 2)"
   ]
  },
  {
   "cell_type": "code",
   "execution_count": 264,
   "id": "4a9b1b98",
   "metadata": {},
   "outputs": [
    {
     "data": {
      "text/plain": [
       "0.7209705372616985"
      ]
     },
     "execution_count": 264,
     "metadata": {},
     "output_type": "execute_result"
    }
   ],
   "source": [
    "precision = confusion_matrix(y_t, y_p)[1][1]/(confusion_matrix(y_t, y_p)[1][1]+confusion_matrix(y_t, y_p)[0][1])\n",
    "precision"
   ]
  },
  {
   "cell_type": "code",
   "execution_count": 265,
   "id": "d580e32e",
   "metadata": {},
   "outputs": [
    {
     "data": {
      "text/plain": [
       "0.63"
      ]
     },
     "execution_count": 265,
     "metadata": {},
     "output_type": "execute_result"
    }
   ],
   "source": [
    "f1_score = statistics.harmonic_mean([recall,precision])\n",
    "np.round(f1_score, 2)"
   ]
  },
  {
   "cell_type": "code",
   "execution_count": 266,
   "id": "a5ccdb67",
   "metadata": {},
   "outputs": [
    {
     "name": "stdout",
     "output_type": "stream",
     "text": [
      "              precision    recall  f1-score   support\n",
      "\n",
      "           0       0.92      0.96      0.94      4172\n",
      "           1       0.72      0.56      0.63       742\n",
      "\n",
      "    accuracy                           0.90      4914\n",
      "   macro avg       0.82      0.76      0.79      4914\n",
      "weighted avg       0.89      0.90      0.90      4914\n",
      "\n"
     ]
    }
   ],
   "source": [
    "print(classification_report(y_t, y_p))"
   ]
  },
  {
   "cell_type": "code",
   "execution_count": 267,
   "id": "5f1d932d",
   "metadata": {},
   "outputs": [
    {
     "data": {
      "text/plain": [
       "0.9180380110762807"
      ]
     },
     "execution_count": 267,
     "metadata": {},
     "output_type": "execute_result"
    }
   ],
   "source": [
    "AREA_ROC = np.trapz(clf_tpr, clf_fpr)\n",
    "AREA_ROC"
   ]
  },
  {
   "cell_type": "code",
   "execution_count": 268,
   "id": "de5302d0",
   "metadata": {},
   "outputs": [
    {
     "name": "stdout",
     "output_type": "stream",
     "text": [
      "Area under the ROC_CURVE :  0.9180380110762807\n"
     ]
    }
   ],
   "source": [
    "print('Area under the ROC_CURVE : ', AREA_ROC)"
   ]
  },
  {
   "cell_type": "code",
   "execution_count": null,
   "id": "dc878d15",
   "metadata": {},
   "outputs": [],
   "source": []
  }
 ],
 "metadata": {
  "kernelspec": {
   "display_name": "Python 3",
   "language": "python",
   "name": "python3"
  },
  "language_info": {
   "codemirror_mode": {
    "name": "ipython",
    "version": 3
   },
   "file_extension": ".py",
   "mimetype": "text/x-python",
   "name": "python",
   "nbconvert_exporter": "python",
   "pygments_lexer": "ipython3",
   "version": "3.12.0"
  }
 },
 "nbformat": 4,
 "nbformat_minor": 5
}
